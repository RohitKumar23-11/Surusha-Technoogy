{
 "cells": [
  {
   "cell_type": "code",
   "execution_count": 1,
   "id": "db6d38a2",
   "metadata": {},
   "outputs": [],
   "source": [
    "import pandas as pd\n",
    "import numpy as np\n",
    "import matplotlib.pyplot as plt\n",
    "import seaborn as sns"
   ]
  },
  {
   "cell_type": "code",
   "execution_count": 2,
   "id": "30ef1026",
   "metadata": {},
   "outputs": [
    {
     "data": {
      "text/html": [
       "<div>\n",
       "<style scoped>\n",
       "    .dataframe tbody tr th:only-of-type {\n",
       "        vertical-align: middle;\n",
       "    }\n",
       "\n",
       "    .dataframe tbody tr th {\n",
       "        vertical-align: top;\n",
       "    }\n",
       "\n",
       "    .dataframe thead th {\n",
       "        text-align: right;\n",
       "    }\n",
       "</style>\n",
       "<table border=\"1\" class=\"dataframe\">\n",
       "  <thead>\n",
       "    <tr style=\"text-align: right;\">\n",
       "      <th></th>\n",
       "      <th>cid</th>\n",
       "      <th>cmpdname</th>\n",
       "      <th>cmpdsynonym</th>\n",
       "      <th>mw</th>\n",
       "      <th>mf</th>\n",
       "      <th>polararea</th>\n",
       "      <th>complexity</th>\n",
       "      <th>xlogp</th>\n",
       "      <th>heavycnt</th>\n",
       "      <th>hbonddonor</th>\n",
       "      <th>...</th>\n",
       "      <th>inchikey</th>\n",
       "      <th>iupacname</th>\n",
       "      <th>meshheadings</th>\n",
       "      <th>annothits</th>\n",
       "      <th>annothitcnt</th>\n",
       "      <th>aids</th>\n",
       "      <th>cidcdate</th>\n",
       "      <th>sidsrcname</th>\n",
       "      <th>depcatg</th>\n",
       "      <th>annotation</th>\n",
       "    </tr>\n",
       "  </thead>\n",
       "  <tbody>\n",
       "    <tr>\n",
       "      <th>0</th>\n",
       "      <td>1</td>\n",
       "      <td>Acetylcarnitine</td>\n",
       "      <td>Acetyl-DL-carnitine|acetylcarnitine|DL-O-Acety...</td>\n",
       "      <td>203.24</td>\n",
       "      <td>C9H17NO4</td>\n",
       "      <td>66.4</td>\n",
       "      <td>214.0</td>\n",
       "      <td>0.4</td>\n",
       "      <td>14</td>\n",
       "      <td>0</td>\n",
       "      <td>...</td>\n",
       "      <td>RDHQFKQIGNGIED-UHFFFAOYSA-N</td>\n",
       "      <td>3-acetyloxy-4-(trimethylazaniumyl)butanoate</td>\n",
       "      <td>Acetylcarnitine</td>\n",
       "      <td>Biomolecular Interactions and Pathways|Classif...</td>\n",
       "      <td>8</td>\n",
       "      <td>NaN</td>\n",
       "      <td>20050623</td>\n",
       "      <td>3WAY PHARM INC|A2B Chem|AA BLOCKS|AbaChemScene...</td>\n",
       "      <td>Chemical Vendors|Curation Efforts|Governmental...</td>\n",
       "      <td>NaN</td>\n",
       "    </tr>\n",
       "    <tr>\n",
       "      <th>1</th>\n",
       "      <td>2</td>\n",
       "      <td>1-Propanaminium, 2-(acetyloxy)-3-carboxy-N,N,N...</td>\n",
       "      <td>1-Propanaminium, 2-(acetyloxy)-3-carboxy-N,N,N...</td>\n",
       "      <td>204.24</td>\n",
       "      <td>C9H18NO4+</td>\n",
       "      <td>63.6</td>\n",
       "      <td>219.0</td>\n",
       "      <td>-0.3</td>\n",
       "      <td>14</td>\n",
       "      <td>1</td>\n",
       "      <td>...</td>\n",
       "      <td>RDHQFKQIGNGIED-UHFFFAOYSA-O</td>\n",
       "      <td>(2-acetyloxy-3-carboxypropyl)-trimethylazanium</td>\n",
       "      <td>NaN</td>\n",
       "      <td>Biological Test Results|Chemical and Physical ...</td>\n",
       "      <td>8</td>\n",
       "      <td>781325|1272365|1671498</td>\n",
       "      <td>20050623</td>\n",
       "      <td>001Chemical|3B Scientific (Wuhan) Corp|3WAY PH...</td>\n",
       "      <td>Chemical Vendors|Curation Efforts|Governmental...</td>\n",
       "      <td>NaN</td>\n",
       "    </tr>\n",
       "    <tr>\n",
       "      <th>2</th>\n",
       "      <td>3</td>\n",
       "      <td>5,6-Dihydroxycyclohexa-1,3-diene-1-carboxylic ...</td>\n",
       "      <td>2,3-dihydroxy-2,3-dihydrobenzoic acid|5,6-dihy...</td>\n",
       "      <td>156.14</td>\n",
       "      <td>C7H8O4</td>\n",
       "      <td>77.8</td>\n",
       "      <td>229.0</td>\n",
       "      <td>-0.3</td>\n",
       "      <td>11</td>\n",
       "      <td>3</td>\n",
       "      <td>...</td>\n",
       "      <td>INCSWYKICIYAHB-UHFFFAOYSA-N</td>\n",
       "      <td>5,6-dihydroxycyclohexa-1,3-diene-1-carboxylic ...</td>\n",
       "      <td>NaN</td>\n",
       "      <td>Classification|Literature|Names and Identifier...</td>\n",
       "      <td>4</td>\n",
       "      <td>NaN</td>\n",
       "      <td>20040916</td>\n",
       "      <td>AAA Chemistry|ABI Chem|Achemica|ChEBI|ChemDB|C...</td>\n",
       "      <td>Chemical Vendors|Curation Efforts|Governmental...</td>\n",
       "      <td>NaN</td>\n",
       "    </tr>\n",
       "    <tr>\n",
       "      <th>3</th>\n",
       "      <td>4</td>\n",
       "      <td>1-Aminopropan-2-ol</td>\n",
       "      <td>1-Aminopropan-2-ol|1-AMINO-2-PROPANOL|78-96-6|...</td>\n",
       "      <td>75.11</td>\n",
       "      <td>C3H9NO</td>\n",
       "      <td>46.2</td>\n",
       "      <td>22.9</td>\n",
       "      <td>-1.0</td>\n",
       "      <td>5</td>\n",
       "      <td>2</td>\n",
       "      <td>...</td>\n",
       "      <td>HXKKHQJGJAFBHI-UHFFFAOYSA-N</td>\n",
       "      <td>1-aminopropan-2-ol</td>\n",
       "      <td>NaN</td>\n",
       "      <td>Biological Test Results|Biomolecular Interacti...</td>\n",
       "      <td>13</td>\n",
       "      <td>155|157|161|165|167|175|1188|23443|158688|6516...</td>\n",
       "      <td>20050326</td>\n",
       "      <td>001Chemical|3B Scientific (Wuhan) Corp|3WAY PH...</td>\n",
       "      <td>Chemical Vendors|Curation Efforts|Governmental...</td>\n",
       "      <td>NaN</td>\n",
       "    </tr>\n",
       "    <tr>\n",
       "      <th>4</th>\n",
       "      <td>5</td>\n",
       "      <td>3-Amino-2-oxopropyl phosphate</td>\n",
       "      <td>3-Amino-2-oxopropyl phosphate|3-amino-2-oxopro...</td>\n",
       "      <td>169.07</td>\n",
       "      <td>C3H8NO5P</td>\n",
       "      <td>110.0</td>\n",
       "      <td>162.0</td>\n",
       "      <td>-5.0</td>\n",
       "      <td>10</td>\n",
       "      <td>3</td>\n",
       "      <td>...</td>\n",
       "      <td>HIQNVODXENYOFK-UHFFFAOYSA-N</td>\n",
       "      <td>(3-amino-2-oxopropyl) dihydrogen phosphate</td>\n",
       "      <td>NaN</td>\n",
       "      <td>Biomolecular Interactions and Pathways|Classif...</td>\n",
       "      <td>5</td>\n",
       "      <td>NaN</td>\n",
       "      <td>20050601</td>\n",
       "      <td>AAA Chemistry|ABI Chem|BIND|BioCyc|ChEBI|ChemD...</td>\n",
       "      <td>Chemical Vendors|Curation Efforts|Governmental...</td>\n",
       "      <td>NaN</td>\n",
       "    </tr>\n",
       "  </tbody>\n",
       "</table>\n",
       "<p>5 rows × 24 columns</p>\n",
       "</div>"
      ],
      "text/plain": [
       "   cid                                           cmpdname  \\\n",
       "0    1                                    Acetylcarnitine   \n",
       "1    2  1-Propanaminium, 2-(acetyloxy)-3-carboxy-N,N,N...   \n",
       "2    3  5,6-Dihydroxycyclohexa-1,3-diene-1-carboxylic ...   \n",
       "3    4                                 1-Aminopropan-2-ol   \n",
       "4    5                      3-Amino-2-oxopropyl phosphate   \n",
       "\n",
       "                                         cmpdsynonym      mw         mf  \\\n",
       "0  Acetyl-DL-carnitine|acetylcarnitine|DL-O-Acety...  203.24   C9H17NO4   \n",
       "1  1-Propanaminium, 2-(acetyloxy)-3-carboxy-N,N,N...  204.24  C9H18NO4+   \n",
       "2  2,3-dihydroxy-2,3-dihydrobenzoic acid|5,6-dihy...  156.14     C7H8O4   \n",
       "3  1-Aminopropan-2-ol|1-AMINO-2-PROPANOL|78-96-6|...   75.11     C3H9NO   \n",
       "4  3-Amino-2-oxopropyl phosphate|3-amino-2-oxopro...  169.07   C3H8NO5P   \n",
       "\n",
       "   polararea  complexity  xlogp  heavycnt  hbonddonor  ...  \\\n",
       "0       66.4       214.0    0.4        14           0  ...   \n",
       "1       63.6       219.0   -0.3        14           1  ...   \n",
       "2       77.8       229.0   -0.3        11           3  ...   \n",
       "3       46.2        22.9   -1.0         5           2  ...   \n",
       "4      110.0       162.0   -5.0        10           3  ...   \n",
       "\n",
       "                      inchikey  \\\n",
       "0  RDHQFKQIGNGIED-UHFFFAOYSA-N   \n",
       "1  RDHQFKQIGNGIED-UHFFFAOYSA-O   \n",
       "2  INCSWYKICIYAHB-UHFFFAOYSA-N   \n",
       "3  HXKKHQJGJAFBHI-UHFFFAOYSA-N   \n",
       "4  HIQNVODXENYOFK-UHFFFAOYSA-N   \n",
       "\n",
       "                                           iupacname     meshheadings  \\\n",
       "0        3-acetyloxy-4-(trimethylazaniumyl)butanoate  Acetylcarnitine   \n",
       "1     (2-acetyloxy-3-carboxypropyl)-trimethylazanium              NaN   \n",
       "2  5,6-dihydroxycyclohexa-1,3-diene-1-carboxylic ...              NaN   \n",
       "3                                 1-aminopropan-2-ol              NaN   \n",
       "4         (3-amino-2-oxopropyl) dihydrogen phosphate              NaN   \n",
       "\n",
       "                                           annothits annothitcnt  \\\n",
       "0  Biomolecular Interactions and Pathways|Classif...           8   \n",
       "1  Biological Test Results|Chemical and Physical ...           8   \n",
       "2  Classification|Literature|Names and Identifier...           4   \n",
       "3  Biological Test Results|Biomolecular Interacti...          13   \n",
       "4  Biomolecular Interactions and Pathways|Classif...           5   \n",
       "\n",
       "                                                aids  cidcdate  \\\n",
       "0                                                NaN  20050623   \n",
       "1                             781325|1272365|1671498  20050623   \n",
       "2                                                NaN  20040916   \n",
       "3  155|157|161|165|167|175|1188|23443|158688|6516...  20050326   \n",
       "4                                                NaN  20050601   \n",
       "\n",
       "                                          sidsrcname  \\\n",
       "0  3WAY PHARM INC|A2B Chem|AA BLOCKS|AbaChemScene...   \n",
       "1  001Chemical|3B Scientific (Wuhan) Corp|3WAY PH...   \n",
       "2  AAA Chemistry|ABI Chem|Achemica|ChEBI|ChemDB|C...   \n",
       "3  001Chemical|3B Scientific (Wuhan) Corp|3WAY PH...   \n",
       "4  AAA Chemistry|ABI Chem|BIND|BioCyc|ChEBI|ChemD...   \n",
       "\n",
       "                                             depcatg annotation  \n",
       "0  Chemical Vendors|Curation Efforts|Governmental...        NaN  \n",
       "1  Chemical Vendors|Curation Efforts|Governmental...        NaN  \n",
       "2  Chemical Vendors|Curation Efforts|Governmental...        NaN  \n",
       "3  Chemical Vendors|Curation Efforts|Governmental...        NaN  \n",
       "4  Chemical Vendors|Curation Efforts|Governmental...        NaN  \n",
       "\n",
       "[5 rows x 24 columns]"
      ]
     },
     "execution_count": 2,
     "metadata": {},
     "output_type": "execute_result"
    }
   ],
   "source": [
    "df_name = pd.read_csv(r\"D:\\projects dataset\\PubChem\\PubChem_compound_list_HVq4JiOfRiNxDc4UTGyHObkY93goH_vdgfjgkZrp8pCa8M4.csv\",low_memory=False)\n",
    "                       \n",
    "df_name.head()"
   ]
  },
  {
   "cell_type": "code",
   "execution_count": 3,
   "id": "c64c7550",
   "metadata": {},
   "outputs": [
    {
     "data": {
      "text/plain": [
       "cid                   0\n",
       "cmpdname            494\n",
       "cmpdsynonym      209632\n",
       "mw                    0\n",
       "mf                    0\n",
       "polararea             0\n",
       "complexity            0\n",
       "xlogp            290044\n",
       "heavycnt              0\n",
       "hbonddonor            0\n",
       "hbondacc              0\n",
       "rotbonds              0\n",
       "inchi                 0\n",
       "isosmiles             0\n",
       "inchikey              0\n",
       "iupacname         17795\n",
       "meshheadings    1892720\n",
       "annothits             0\n",
       "annothitcnt           0\n",
       "aids            1496986\n",
       "cidcdate              0\n",
       "sidsrcname            0\n",
       "depcatg               0\n",
       "annotation      1899642\n",
       "dtype: int64"
      ]
     },
     "execution_count": 3,
     "metadata": {},
     "output_type": "execute_result"
    }
   ],
   "source": [
    "df_name.isnull().sum()"
   ]
  },
  {
   "cell_type": "code",
   "execution_count": 4,
   "id": "eda474f1",
   "metadata": {},
   "outputs": [
    {
     "data": {
      "text/plain": [
       "cmpdname        0.000260\n",
       "cmpdsynonym     0.110270\n",
       "xlogp           0.152569\n",
       "iupacname       0.009361\n",
       "meshheadings    0.995607\n",
       "aids            0.787443\n",
       "annotation      0.999248\n",
       "dtype: float64"
      ]
     },
     "execution_count": 4,
     "metadata": {},
     "output_type": "execute_result"
    }
   ],
   "source": [
    "df_name[[\"cmpdname\",\"cmpdsynonym\",\"xlogp\",\"iupacname\",\"meshheadings\",\"aids\",\"annotation\"]].isnull().sum()/len(df_name[\"cmpdname\"])"
   ]
  },
  {
   "cell_type": "code",
   "execution_count": 5,
   "id": "9d495abe",
   "metadata": {},
   "outputs": [
    {
     "name": "stdout",
     "output_type": "stream",
     "text": [
      "<class 'pandas.core.frame.DataFrame'>\n",
      "RangeIndex: 1901072 entries, 0 to 1901071\n",
      "Data columns (total 24 columns):\n",
      " #   Column        Dtype  \n",
      "---  ------        -----  \n",
      " 0   cid           int64  \n",
      " 1   cmpdname      object \n",
      " 2   cmpdsynonym   object \n",
      " 3   mw            float64\n",
      " 4   mf            object \n",
      " 5   polararea     float64\n",
      " 6   complexity    float64\n",
      " 7   xlogp         float64\n",
      " 8   heavycnt      int64  \n",
      " 9   hbonddonor    int64  \n",
      " 10  hbondacc      int64  \n",
      " 11  rotbonds      int64  \n",
      " 12  inchi         object \n",
      " 13  isosmiles     object \n",
      " 14  inchikey      object \n",
      " 15  iupacname     object \n",
      " 16  meshheadings  object \n",
      " 17  annothits     object \n",
      " 18  annothitcnt   int64  \n",
      " 19  aids          object \n",
      " 20  cidcdate      int64  \n",
      " 21  sidsrcname    object \n",
      " 22  depcatg       object \n",
      " 23  annotation    object \n",
      "dtypes: float64(4), int64(7), object(13)\n",
      "memory usage: 348.1+ MB\n"
     ]
    }
   ],
   "source": [
    "df_name.info()"
   ]
  },
  {
   "cell_type": "code",
   "execution_count": 6,
   "id": "b3a710f6",
   "metadata": {},
   "outputs": [
    {
     "data": {
      "image/png": "[encoded data removed]",
      "text/plain": [
       "<Figure size 432x288 with 1 Axes>"
      ]
     },
     "metadata": {
      "needs_background": "light"
     },
     "output_type": "display_data"
    }
   ],
   "source": [
    "#plotting histogram \n",
    "plt.hist(df_name['polararea'],rwidth=0.9,alpha=0.3,color='blue',bins=15,edgecolor='red') \n",
    "\n",
    "#x and y-axis labels \n",
    "#plt.xlabel('Base price range') \n",
    "#plt.ylabel('Distinct order') \n",
    "\n",
    "#plot title \n",
    "#plt.title('Inspecting price effect') \n",
    "plt.rcParams[\"figure.figsize\"] = (8,8)\n",
    "#save and display the plot \n",
    "#plt.savefig('C:\\\\Users\\\\Dell\\\\Desktop\\\\AV Plotting images\\\\matplotlib_plotting_10.png',dpi=300,bbox_inches='tight') \n",
    "plt.show();"
   ]
  },
  {
   "cell_type": "code",
   "execution_count": 7,
   "id": "8c9eb8c9",
   "metadata": {},
   "outputs": [
    {
     "ename": "NameError",
     "evalue": "name 'df_drug' is not defined",
     "output_type": "error",
     "traceback": [
      "\u001b[1;31m---------------------------------------------------------------------------\u001b[0m",
      "\u001b[1;31mNameError\u001b[0m                                 Traceback (most recent call last)",
      "\u001b[1;32m~\\AppData\\Local\\Temp/ipykernel_17864/1156254847.py\u001b[0m in \u001b[0;36m<module>\u001b[1;34m\u001b[0m\n\u001b[1;32m----> 1\u001b[1;33m \u001b[0mdf_drug\u001b[0m\u001b[1;33m.\u001b[0m\u001b[0mcolumns\u001b[0m\u001b[1;33m\u001b[0m\u001b[1;33m\u001b[0m\u001b[0m\n\u001b[0m",
      "\u001b[1;31mNameError\u001b[0m: name 'df_drug' is not defined"
     ]
    }
   ],
   "source": [
    "df_name.columns"
   ]
  },
  {
   "cell_type": "code",
   "execution_count": null,
   "id": "30851e62",
   "metadata": {},
   "outputs": [],
   "source": [
    "fig, axs = plt.subplots(2)\n",
    "axs[0].scatter(df_name['mw'],df_name['polararea'],color='c')\n",
    "axs[1].scatter(df_name['mw'],df_name['complexity'],color='g')\n",
    "fig.suptitle(\"comparison of drug and chemical property dataset's mw with polararea and complexity\")\n",
    "#plt.xlabel(\"mw of drug and chemical property dataset\")\n",
    "#plt.ylabel(\"polararea of drug and chemical property dataset\")\n",
    "plt.rcParams[\"figure.figsize\"] = (8,15)\n",
    "for ax in axs.flat:\n",
    "    ax.set(xlabel=\"mw of drug and chemical property dataset\",ylabel=\"polararea and complexity of drug and chemical property dataset\")\n",
    "plt.show()"
   ]
  },
  {
   "cell_type": "code",
   "execution_count": null,
   "id": "ef45d550",
   "metadata": {},
   "outputs": [],
   "source": [
    "df_new_name = df_name.drop(['cmpdname','cmpdsynonym','mf','inchi','isosmiles','inchikey','iupacname','meshheadings','annothits','aids','sidsrcname','depcatg','annotation'],axis=1)\n",
    "df_new_name.head()"
   ]
  },
  {
   "cell_type": "code",
   "execution_count": null,
   "id": "3d213953",
   "metadata": {},
   "outputs": [],
   "source": [
    "plt.fill_between(df_new_name['mw'],df_new_name['polararea'],alpha=0.5, linewidth=0)\n",
    "plt.show()"
   ]
  },
  {
   "cell_type": "code",
   "execution_count": null,
   "id": "d33d3b8a",
   "metadata": {},
   "outputs": [],
   "source": [
    "plt.contour(df_new_name[['mw','polararea','cid']])\n",
    "plt.show()"
   ]
  },
  {
   "cell_type": "code",
   "execution_count": null,
   "id": "ac3fb6e2",
   "metadata": {},
   "outputs": [],
   "source": [
    "plt.hexbin(df_new_name['mw'],df_new_name['cid'],gridsize=10)\n",
    "#plt.set(xlim=(-2,2), ylim=(-3,3))\n",
    "plt.show()"
   ]
  },
  {
   "cell_type": "code",
   "execution_count": null,
   "id": "522e0f97",
   "metadata": {},
   "outputs": [],
   "source": [
    "plt.plot(df_new_name['mw'],df_new_name['cid'],'o',color='grey')\n",
    "plt.tricontour(df_new_name['mw'],df_new_name['polararea'],df_new_name['cid'])\n",
    "plt.show()"
   ]
  },
  {
   "cell_type": "code",
   "execution_count": null,
   "id": "86ca973f",
   "metadata": {},
   "outputs": [],
   "source": [
    "cmap = sns.diverging_palette(275,150,s=40,l=65,n=9)\n",
    "corrma = df_name.corr()\n",
    "plt.rcParams[\"figure.figsize\"] = (20,15)\n",
    "plt.plot()\n",
    "sns.heatmap(corrma, cmap=cmap, annot=True, square= True)"
   ]
  },
  {
   "cell_type": "code",
   "execution_count": null,
   "id": "c0006431",
   "metadata": {},
   "outputs": [],
   "source": []
  }
 ],
 "metadata": {
  "kernelspec": {
   "display_name": "Python 3 (ipykernel)",
   "language": "python",
   "name": "python3"
  },
  "language_info": {
   "codemirror_mode": {
    "name": "ipython",
    "version": 3
   },
   "file_extension": ".py",
   "mimetype": "text/x-python",
   "name": "python",
   "nbconvert_exporter": "python",
   "pygments_lexer": "ipython3",
   "version": "3.9.13"
  }
 },
 "nbformat": 4,
 "nbformat_minor": 5
}
