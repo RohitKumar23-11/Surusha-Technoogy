{
 "cells": [
  {
   "cell_type": "code",
   "execution_count": 1,
   "id": "ab93ab30",
   "metadata": {},
   "outputs": [],
   "source": [
    "import numpy as np\n",
    "import pandas as pd\n",
    "import rdkit as rd\n",
    "from rdkit import Chem\n",
    "from rdkit.Chem import Draw\n",
    "from rdkit.Chem.Draw import IPythonConsole\n",
    "from rdkit.Chem import Descriptors\n",
    "from rdkit.Chem import AllChem\n",
    "from rdkit import DataStructs\n",
    "import sys"
   ]
  },
  {
   "cell_type": "code",
   "execution_count": 2,
   "id": "d34581d6",
   "metadata": {},
   "outputs": [],
   "source": [
    "df = pd.read_csv(r\"D:\\projects dataset\\chemical_reaction_1\\ReactionSeq2Seq_Dataset\\Jin_USPTO_1product_train.txt\",sep=\",\")"
   ]
  },
  {
   "cell_type": "code",
   "execution_count": 3,
   "id": "c7d8c5b8",
   "metadata": {},
   "outputs": [
    {
     "data": {
      "text/html": [
       "<div>\n",
       "<style scoped>\n",
       "    .dataframe tbody tr th:only-of-type {\n",
       "        vertical-align: middle;\n",
       "    }\n",
       "\n",
       "    .dataframe tbody tr th {\n",
       "        vertical-align: top;\n",
       "    }\n",
       "\n",
       "    .dataframe thead th {\n",
       "        text-align: right;\n",
       "    }\n",
       "</style>\n",
       "<table border=\"1\" class=\"dataframe\">\n",
       "  <thead>\n",
       "    <tr style=\"text-align: right;\">\n",
       "      <th></th>\n",
       "      <th># Original data downloaded from: https://github.com/wengong-jin/nips17-rexgen</th>\n",
       "      <th>Sept 2017</th>\n",
       "      <th>MIT License</th>\n",
       "    </tr>\n",
       "  </thead>\n",
       "  <tbody>\n",
       "    <tr>\n",
       "      <th>0</th>\n",
       "      <td>[CH2:15]([CH:16]([CH3:17])[CH3:18])[Mg+:19].[C...</td>\n",
       "      <td>NaN</td>\n",
       "      <td>NaN</td>\n",
       "    </tr>\n",
       "    <tr>\n",
       "      <th>1</th>\n",
       "      <td>[CH3:14][NH2:15].[N+:1](=[O:2])([O-:3])[c:4]1[...</td>\n",
       "      <td>NaN</td>\n",
       "      <td>NaN</td>\n",
       "    </tr>\n",
       "    <tr>\n",
       "      <th>2</th>\n",
       "      <td>[CH2:1]([CH3:2])[n:3]1[cH:4][c:5]([C:22](=[O:2...</td>\n",
       "      <td>NaN</td>\n",
       "      <td>NaN</td>\n",
       "    </tr>\n",
       "    <tr>\n",
       "      <th>3</th>\n",
       "      <td>[Cl:1][C:2]([N:3]([CH3:4])[CH3:5])=[C:6]([CH3:...</td>\n",
       "      <td>NaN</td>\n",
       "      <td>NaN</td>\n",
       "    </tr>\n",
       "    <tr>\n",
       "      <th>4</th>\n",
       "      <td>[Cl:11][c:12]1[c:13]2[c:14]([n:15][c:16](-[c:1...</td>\n",
       "      <td>NaN</td>\n",
       "      <td>NaN</td>\n",
       "    </tr>\n",
       "  </tbody>\n",
       "</table>\n",
       "</div>"
      ],
      "text/plain": [
       "  # Original data downloaded from: https://github.com/wengong-jin/nips17-rexgen  \\\n",
       "0  [CH2:15]([CH:16]([CH3:17])[CH3:18])[Mg+:19].[C...                              \n",
       "1  [CH3:14][NH2:15].[N+:1](=[O:2])([O-:3])[c:4]1[...                              \n",
       "2  [CH2:1]([CH3:2])[n:3]1[cH:4][c:5]([C:22](=[O:2...                              \n",
       "3  [Cl:1][C:2]([N:3]([CH3:4])[CH3:5])=[C:6]([CH3:...                              \n",
       "4  [Cl:11][c:12]1[c:13]2[c:14]([n:15][c:16](-[c:1...                              \n",
       "\n",
       "    Sept 2017   MIT License  \n",
       "0         NaN           NaN  \n",
       "1         NaN           NaN  \n",
       "2         NaN           NaN  \n",
       "3         NaN           NaN  \n",
       "4         NaN           NaN  "
      ]
     },
     "execution_count": 3,
     "metadata": {},
     "output_type": "execute_result"
    }
   ],
   "source": [
    "df.head()"
   ]
  },
  {
   "cell_type": "code",
   "execution_count": 4,
   "id": "8fd93ce2",
   "metadata": {},
   "outputs": [
    {
     "name": "stdout",
     "output_type": "stream",
     "text": [
      "<class 'pandas.core.frame.DataFrame'>\n",
      "RangeIndex: 395497 entries, 0 to 395496\n",
      "Data columns (total 3 columns):\n",
      " #   Column                                                                         Non-Null Count   Dtype  \n",
      "---  ------                                                                         --------------   -----  \n",
      " 0   # Original data downloaded from: https://github.com/wengong-jin/nips17-rexgen  395497 non-null  object \n",
      " 1    Sept 2017                                                                     0 non-null       float64\n",
      " 2    MIT License                                                                   0 non-null       float64\n",
      "dtypes: float64(2), object(1)\n",
      "memory usage: 9.1+ MB\n"
     ]
    }
   ],
   "source": [
    "df.info()"
   ]
  },
  {
   "cell_type": "code",
   "execution_count": 5,
   "id": "f7539626",
   "metadata": {},
   "outputs": [
    {
     "data": {
      "text/plain": [
       "# Original data downloaded from: https://github.com/wengong-jin/nips17-rexgen         0\n",
       " Sept 2017                                                                       395497\n",
       " MIT License                                                                     395497\n",
       "dtype: int64"
      ]
     },
     "execution_count": 5,
     "metadata": {},
     "output_type": "execute_result"
    }
   ],
   "source": [
    "df.isnull().sum()"
   ]
  },
  {
   "cell_type": "code",
   "execution_count": 6,
   "id": "c368d401",
   "metadata": {},
   "outputs": [
    {
     "data": {
      "text/plain": [
       "Index(['# Original data downloaded from: https://github.com/wengong-jin/nips17-rexgen',\n",
       "       ' Sept 2017', ' MIT License'],\n",
       "      dtype='object')"
      ]
     },
     "execution_count": 6,
     "metadata": {},
     "output_type": "execute_result"
    }
   ],
   "source": [
    "df.columns"
   ]
  },
  {
   "cell_type": "code",
   "execution_count": 7,
   "id": "9a81e853",
   "metadata": {},
   "outputs": [
    {
     "data": {
      "text/html": [
       "<div>\n",
       "<style scoped>\n",
       "    .dataframe tbody tr th:only-of-type {\n",
       "        vertical-align: middle;\n",
       "    }\n",
       "\n",
       "    .dataframe tbody tr th {\n",
       "        vertical-align: top;\n",
       "    }\n",
       "\n",
       "    .dataframe thead th {\n",
       "        text-align: right;\n",
       "    }\n",
       "</style>\n",
       "<table border=\"1\" class=\"dataframe\">\n",
       "  <thead>\n",
       "    <tr style=\"text-align: right;\">\n",
       "      <th></th>\n",
       "      <th>chemicals</th>\n",
       "      <th>Sept 2017</th>\n",
       "      <th>MIT License</th>\n",
       "    </tr>\n",
       "  </thead>\n",
       "  <tbody>\n",
       "    <tr>\n",
       "      <th>0</th>\n",
       "      <td>[CH2:15]([CH:16]([CH3:17])[CH3:18])[Mg+:19].[C...</td>\n",
       "      <td>NaN</td>\n",
       "      <td>NaN</td>\n",
       "    </tr>\n",
       "    <tr>\n",
       "      <th>1</th>\n",
       "      <td>[CH3:14][NH2:15].[N+:1](=[O:2])([O-:3])[c:4]1[...</td>\n",
       "      <td>NaN</td>\n",
       "      <td>NaN</td>\n",
       "    </tr>\n",
       "    <tr>\n",
       "      <th>2</th>\n",
       "      <td>[CH2:1]([CH3:2])[n:3]1[cH:4][c:5]([C:22](=[O:2...</td>\n",
       "      <td>NaN</td>\n",
       "      <td>NaN</td>\n",
       "    </tr>\n",
       "    <tr>\n",
       "      <th>3</th>\n",
       "      <td>[Cl:1][C:2]([N:3]([CH3:4])[CH3:5])=[C:6]([CH3:...</td>\n",
       "      <td>NaN</td>\n",
       "      <td>NaN</td>\n",
       "    </tr>\n",
       "    <tr>\n",
       "      <th>4</th>\n",
       "      <td>[Cl:11][c:12]1[c:13]2[c:14]([n:15][c:16](-[c:1...</td>\n",
       "      <td>NaN</td>\n",
       "      <td>NaN</td>\n",
       "    </tr>\n",
       "  </tbody>\n",
       "</table>\n",
       "</div>"
      ],
      "text/plain": [
       "                                           chemicals   Sept 2017   MIT License\n",
       "0  [CH2:15]([CH:16]([CH3:17])[CH3:18])[Mg+:19].[C...         NaN           NaN\n",
       "1  [CH3:14][NH2:15].[N+:1](=[O:2])([O-:3])[c:4]1[...         NaN           NaN\n",
       "2  [CH2:1]([CH3:2])[n:3]1[cH:4][c:5]([C:22](=[O:2...         NaN           NaN\n",
       "3  [Cl:1][C:2]([N:3]([CH3:4])[CH3:5])=[C:6]([CH3:...         NaN           NaN\n",
       "4  [Cl:11][c:12]1[c:13]2[c:14]([n:15][c:16](-[c:1...         NaN           NaN"
      ]
     },
     "execution_count": 7,
     "metadata": {},
     "output_type": "execute_result"
    }
   ],
   "source": [
    "df.rename(columns={'# Original data downloaded from: https://github.com/wengong-jin/nips17-rexgen':'chemicals'},inplace=True,errors='raise')\n",
    "df.head()"
   ]
  },
  {
   "cell_type": "code",
   "execution_count": 8,
   "id": "04c51e94",
   "metadata": {},
   "outputs": [
    {
     "name": "stdout",
     "output_type": "stream",
     "text": [
      "<class 'pandas.core.frame.DataFrame'>\n",
      "RangeIndex: 395497 entries, 0 to 395496\n",
      "Data columns (total 3 columns):\n",
      " #   Column        Non-Null Count   Dtype  \n",
      "---  ------        --------------   -----  \n",
      " 0   chemicals     395497 non-null  object \n",
      " 1    Sept 2017    0 non-null       float64\n",
      " 2    MIT License  0 non-null       float64\n",
      "dtypes: float64(2), object(1)\n",
      "memory usage: 9.1+ MB\n"
     ]
    }
   ],
   "source": [
    "df.info()"
   ]
  },
  {
   "cell_type": "code",
   "execution_count": 9,
   "id": "ab90eb1a",
   "metadata": {},
   "outputs": [
    {
     "data": {
      "text/plain": [
       "chemicals            0\n",
       " Sept 2017      395497\n",
       " MIT License    395497\n",
       "dtype: int64"
      ]
     },
     "execution_count": 9,
     "metadata": {},
     "output_type": "execute_result"
    }
   ],
   "source": [
    "df.isnull().sum()"
   ]
  },
  {
   "cell_type": "code",
   "execution_count": 10,
   "id": "5b7c5353",
   "metadata": {},
   "outputs": [],
   "source": [
    "from rdkit.Chem import PandasTools"
   ]
  },
  {
   "cell_type": "code",
   "execution_count": 11,
   "id": "061d846a",
   "metadata": {},
   "outputs": [],
   "source": [
    "from stmol import showmol\n",
    "import py3Dmol"
   ]
  },
  {
   "cell_type": "markdown",
   "id": "04b62b12",
   "metadata": {},
   "source": [
    "for chemical_name in df:\n",
    "    print(df['chemical_name'])"
   ]
  },
  {
   "cell_type": "code",
   "execution_count": 12,
   "id": "c9769432",
   "metadata": {},
   "outputs": [
    {
     "name": "stdout",
     "output_type": "stream",
     "text": [
      "0         [CH2:15]([CH:16]([CH3:17])[CH3:18])[Mg+:19].[C...\n",
      "1         [CH3:14][NH2:15].[N+:1](=[O:2])([O-:3])[c:4]1[...\n",
      "2         [CH2:1]([CH3:2])[n:3]1[cH:4][c:5]([C:22](=[O:2...\n",
      "3         [Cl:1][C:2]([N:3]([CH3:4])[CH3:5])=[C:6]([CH3:...\n",
      "4         [Cl:11][c:12]1[c:13]2[c:14]([n:15][c:16](-[c:1...\n",
      "                                ...                        \n",
      "395492    [CH2:1]([CH3:2])[c:3]1[n:4](-[c:28]2[cH:29][cH...\n",
      "395493    [Cl:14][C:15]([C:16](=[O:17])[Cl:18])([Cl:19])...\n",
      "395494    [CH2:30]([CH3:31])[n:32]1[c:33]([N:41]2[CH2:42...\n",
      "395495    [CH3:38][OH:39].[F:29][c:30]1[c:31]([CH:32]=[O...\n",
      "395496    [Br:1][c:2]1[cH:3][c:4]2[c:5](-[c:19]3[cH:20][...\n",
      "Name: chemicals, Length: 395497, dtype: object\n"
     ]
    }
   ],
   "source": [
    "a = df['chemicals']\n",
    "print(a)"
   ]
  },
  {
   "cell_type": "code",
   "execution_count": 13,
   "id": "5df35903",
   "metadata": {},
   "outputs": [
    {
     "name": "stdout",
     "output_type": "stream",
     "text": [
      "[Cl:1][C:2]([N:3]([CH3:4])[CH3:5])=[C:6]([CH3:7])[CH3:8].[Cl:51][CH2:52][Cl:53].[N:9]1([C:13](=[O:14])[c:15]2[n:16][cH:17][c:18]([O:21][c:22]3[cH:23][c:24]([C:25](=[O:26])[OH:27])[cH:28][c:29]([O:31][CH:32]([CH2:33][O:34][CH3:35])[CH3:36])[cH:30]3)[n:19][cH:20]2)[CH2:10][CH2:11][CH2:12]1.[NH2:37][c:38]1[n:39][cH:40][c:41]([CH3:44])[n:42][cH:43]1.[cH:45]1[cH:46][cH:47][n:48][cH:49][cH:50]1>>[N:9]1([C:13](=[O:14])[c:15]2[n:16][cH:17][c:18]([O:21][c:22]3[cH:23][c:24]([C:25](=[O:27])[NH:37][c:38]4[n:39][cH:40][c:41]([CH3:44])[n:42][cH:43]4)[cH:28][c:29]([O:31][CH:32]([CH2:33][O:34][CH3:35])[CH3:36])[cH:30]3)[n:19][cH:20]2)[CH2:10][CH2:11][CH2:12]1 25-26;25-37;25-27\n",
      "total dots number are: 4\n"
     ]
    }
   ],
   "source": [
    "b = a[3]\n",
    "print(b)\n",
    "dot = '.'\n",
    "count = b.count(dot)\n",
    "print('total dots number are:', count)"
   ]
  },
  {
   "cell_type": "code",
   "execution_count": 14,
   "id": "3c79f4b3",
   "metadata": {},
   "outputs": [
    {
     "name": "stdout",
     "output_type": "stream",
     "text": [
      "[CH3:24][C:25](=[O:26])[OH:27].[Cl:1][c:2]1[c:3]([CH3:21])[c:4]([CH3:20])[c:5]([CH:8]([c:9]2[cH:10][cH:11][c:12]([F:17])[c:13]([C:14]#[N:15])[cH:16]2)[C:18]#[N:19])[n:6][n:7]1.[ClH:22].[OH2:23]>>[Cl:1][c:2]1[c:3]([CH3:21])[c:4]([CH3:20])[c:5]([CH2:8][c:9]2[cH:10][cH:11][c:12]([F:17])[c:13]([C:14]#[N:15])[cH:16]2)[n:6][n:7]1 8-18\n",
      "total hashs number are: 3\n"
     ]
    }
   ],
   "source": [
    "b1 = a[5]\n",
    "print(b1)\n",
    "hash1 = '#'\n",
    "count = b1.count(hash1)\n",
    "print('total hashs number are:', count)"
   ]
  },
  {
   "cell_type": "code",
   "execution_count": 15,
   "id": "dd2af3ba",
   "metadata": {},
   "outputs": [
    {
     "data": {
      "text/plain": [
       "dtype('O')"
      ]
     },
     "execution_count": 15,
     "metadata": {},
     "output_type": "execute_result"
    }
   ],
   "source": [
    "a.dtypes"
   ]
  },
  {
   "cell_type": "code",
   "execution_count": 16,
   "id": "a2dffb25",
   "metadata": {},
   "outputs": [
    {
     "name": "stdout",
     "output_type": "stream",
     "text": [
      "0         [[CH2:15]([CH:16]([CH3:17])[CH3:18])[Mg+:19], ...\n",
      "1         [[CH3:14][NH2:15], [N+:1](=[O:2])([O-:3])[c:4]...\n",
      "2         [[CH2:1]([CH3:2])[n:3]1[cH:4][c:5]([C:22](=[O:...\n",
      "3         [[Cl:1][C:2]([N:3]([CH3:4])[CH3:5])=[C:6]([CH3...\n",
      "4         [[Cl:11][c:12]1[c:13]2[c:14]([n:15][c:16](-[c:...\n",
      "                                ...                        \n",
      "395492    [[CH2:1]([CH3:2])[c:3]1[n:4](-[c:28]2[cH:29][c...\n",
      "395493    [[Cl:14][C:15]([C:16](=[O:17])[Cl:18])([Cl:19]...\n",
      "395494    [[CH2:30]([CH3:31])[n:32]1[c:33]([N:41]2[CH2:4...\n",
      "395495    [[CH3:38][OH:39], [F:29][c:30]1[c:31]([CH:32]=...\n",
      "395496    [[Br:1][c:2]1[cH:3][c:4]2[c:5](-[c:19]3[cH:20]...\n",
      "Name: chemicals, Length: 395497, dtype: object\n"
     ]
    }
   ],
   "source": [
    "a = df['chemicals'].str.split('.')\n",
    "print(a)"
   ]
  },
  {
   "cell_type": "code",
   "execution_count": 17,
   "id": "65f83c6a",
   "metadata": {},
   "outputs": [
    {
     "data": {
      "text/html": [
       "<div>\n",
       "<style scoped>\n",
       "    .dataframe tbody tr th:only-of-type {\n",
       "        vertical-align: middle;\n",
       "    }\n",
       "\n",
       "    .dataframe tbody tr th {\n",
       "        vertical-align: top;\n",
       "    }\n",
       "\n",
       "    .dataframe thead th {\n",
       "        text-align: right;\n",
       "    }\n",
       "</style>\n",
       "<table border=\"1\" class=\"dataframe\">\n",
       "  <thead>\n",
       "    <tr style=\"text-align: right;\">\n",
       "      <th></th>\n",
       "      <th>0</th>\n",
       "      <th>1</th>\n",
       "      <th>2</th>\n",
       "      <th>3</th>\n",
       "      <th>4</th>\n",
       "      <th>5</th>\n",
       "      <th>6</th>\n",
       "      <th>7</th>\n",
       "      <th>8</th>\n",
       "      <th>9</th>\n",
       "      <th>...</th>\n",
       "      <th>19</th>\n",
       "      <th>20</th>\n",
       "      <th>21</th>\n",
       "      <th>22</th>\n",
       "      <th>23</th>\n",
       "      <th>24</th>\n",
       "      <th>25</th>\n",
       "      <th>26</th>\n",
       "      <th>27</th>\n",
       "      <th>28</th>\n",
       "    </tr>\n",
       "  </thead>\n",
       "  <tbody>\n",
       "    <tr>\n",
       "      <th>0</th>\n",
       "      <td>[CH2:15]([CH:16]([CH3:17])[CH3:18])[Mg+:19]</td>\n",
       "      <td>[CH2:20]1[O:21][CH2:22][CH2:23][CH2:24]1</td>\n",
       "      <td>[Cl-:14]</td>\n",
       "      <td>[OH:1][c:2]1[n:3][cH:4][c:5]([C:6](=[O:7])[N:8...</td>\n",
       "      <td>None</td>\n",
       "      <td>None</td>\n",
       "      <td>None</td>\n",
       "      <td>None</td>\n",
       "      <td>None</td>\n",
       "      <td>None</td>\n",
       "      <td>...</td>\n",
       "      <td>None</td>\n",
       "      <td>None</td>\n",
       "      <td>None</td>\n",
       "      <td>None</td>\n",
       "      <td>None</td>\n",
       "      <td>None</td>\n",
       "      <td>None</td>\n",
       "      <td>None</td>\n",
       "      <td>None</td>\n",
       "      <td>None</td>\n",
       "    </tr>\n",
       "    <tr>\n",
       "      <th>1</th>\n",
       "      <td>[CH3:14][NH2:15]</td>\n",
       "      <td>[N+:1](=[O:2])([O-:3])[c:4]1[cH:5][c:6]([C:7](...</td>\n",
       "      <td>[OH2:16]&gt;&gt;[N+:1](=[O:2])([O-:3])[c:4]1[cH:5][c...</td>\n",
       "      <td>None</td>\n",
       "      <td>None</td>\n",
       "      <td>None</td>\n",
       "      <td>None</td>\n",
       "      <td>None</td>\n",
       "      <td>None</td>\n",
       "      <td>None</td>\n",
       "      <td>...</td>\n",
       "      <td>None</td>\n",
       "      <td>None</td>\n",
       "      <td>None</td>\n",
       "      <td>None</td>\n",
       "      <td>None</td>\n",
       "      <td>None</td>\n",
       "      <td>None</td>\n",
       "      <td>None</td>\n",
       "      <td>None</td>\n",
       "      <td>None</td>\n",
       "    </tr>\n",
       "    <tr>\n",
       "      <th>2</th>\n",
       "      <td>[CH2:1]([CH3:2])[n:3]1[cH:4][c:5]([C:22](=[O:2...</td>\n",
       "      <td>[CH:25](=[O:26])[OH:27]&gt;&gt;[CH2:1]([CH3:2])[n:3]...</td>\n",
       "      <td>None</td>\n",
       "      <td>None</td>\n",
       "      <td>None</td>\n",
       "      <td>None</td>\n",
       "      <td>None</td>\n",
       "      <td>None</td>\n",
       "      <td>None</td>\n",
       "      <td>None</td>\n",
       "      <td>...</td>\n",
       "      <td>None</td>\n",
       "      <td>None</td>\n",
       "      <td>None</td>\n",
       "      <td>None</td>\n",
       "      <td>None</td>\n",
       "      <td>None</td>\n",
       "      <td>None</td>\n",
       "      <td>None</td>\n",
       "      <td>None</td>\n",
       "      <td>None</td>\n",
       "    </tr>\n",
       "    <tr>\n",
       "      <th>3</th>\n",
       "      <td>[Cl:1][C:2]([N:3]([CH3:4])[CH3:5])=[C:6]([CH3:...</td>\n",
       "      <td>[Cl:51][CH2:52][Cl:53]</td>\n",
       "      <td>[N:9]1([C:13](=[O:14])[c:15]2[n:16][cH:17][c:1...</td>\n",
       "      <td>[NH2:37][c:38]1[n:39][cH:40][c:41]([CH3:44])[n...</td>\n",
       "      <td>[cH:45]1[cH:46][cH:47][n:48][cH:49][cH:50]1&gt;&gt;[...</td>\n",
       "      <td>None</td>\n",
       "      <td>None</td>\n",
       "      <td>None</td>\n",
       "      <td>None</td>\n",
       "      <td>None</td>\n",
       "      <td>...</td>\n",
       "      <td>None</td>\n",
       "      <td>None</td>\n",
       "      <td>None</td>\n",
       "      <td>None</td>\n",
       "      <td>None</td>\n",
       "      <td>None</td>\n",
       "      <td>None</td>\n",
       "      <td>None</td>\n",
       "      <td>None</td>\n",
       "      <td>None</td>\n",
       "    </tr>\n",
       "    <tr>\n",
       "      <th>4</th>\n",
       "      <td>[Cl:11][c:12]1[c:13]2[c:14]([n:15][c:16](-[c:1...</td>\n",
       "      <td>[Cl:1][c:2]1[cH:3][c:4]([CH2:5][NH2:6])[cH:7][...</td>\n",
       "      <td>None</td>\n",
       "      <td>None</td>\n",
       "      <td>None</td>\n",
       "      <td>None</td>\n",
       "      <td>None</td>\n",
       "      <td>None</td>\n",
       "      <td>None</td>\n",
       "      <td>None</td>\n",
       "      <td>...</td>\n",
       "      <td>None</td>\n",
       "      <td>None</td>\n",
       "      <td>None</td>\n",
       "      <td>None</td>\n",
       "      <td>None</td>\n",
       "      <td>None</td>\n",
       "      <td>None</td>\n",
       "      <td>None</td>\n",
       "      <td>None</td>\n",
       "      <td>None</td>\n",
       "    </tr>\n",
       "    <tr>\n",
       "      <th>...</th>\n",
       "      <td>...</td>\n",
       "      <td>...</td>\n",
       "      <td>...</td>\n",
       "      <td>...</td>\n",
       "      <td>...</td>\n",
       "      <td>...</td>\n",
       "      <td>...</td>\n",
       "      <td>...</td>\n",
       "      <td>...</td>\n",
       "      <td>...</td>\n",
       "      <td>...</td>\n",
       "      <td>...</td>\n",
       "      <td>...</td>\n",
       "      <td>...</td>\n",
       "      <td>...</td>\n",
       "      <td>...</td>\n",
       "      <td>...</td>\n",
       "      <td>...</td>\n",
       "      <td>...</td>\n",
       "      <td>...</td>\n",
       "      <td>...</td>\n",
       "    </tr>\n",
       "    <tr>\n",
       "      <th>395492</th>\n",
       "      <td>[CH2:1]([CH3:2])[c:3]1[n:4](-[c:28]2[cH:29][cH...</td>\n",
       "      <td>[CH3:86][CH2:87][O:88][C:89](=[O:90])[CH3:91]</td>\n",
       "      <td>[O:66]=[C:67]([O:68][CH:69]([CH3:70])[CH3:71])...</td>\n",
       "      <td>[O:80]1[CH2:81][CH2:82][CH2:83][CH2:84]1</td>\n",
       "      <td>[OH2:85]</td>\n",
       "      <td>[OH:35][CH:36]1[CH2:37][CH2:38][CH:39]([C:42](...</td>\n",
       "      <td>[c:47]1([P:48]([c:49]2[cH:50][cH:51][cH:52][cH...</td>\n",
       "      <td>None</td>\n",
       "      <td>None</td>\n",
       "      <td>None</td>\n",
       "      <td>...</td>\n",
       "      <td>None</td>\n",
       "      <td>None</td>\n",
       "      <td>None</td>\n",
       "      <td>None</td>\n",
       "      <td>None</td>\n",
       "      <td>None</td>\n",
       "      <td>None</td>\n",
       "      <td>None</td>\n",
       "      <td>None</td>\n",
       "      <td>None</td>\n",
       "    </tr>\n",
       "    <tr>\n",
       "      <th>395493</th>\n",
       "      <td>[Cl:14][C:15]([C:16](=[O:17])[Cl:18])([Cl:19])...</td>\n",
       "      <td>[NH2:1][CH:2]([C:3]([CH3:4])([OH:5])[CH3:6])[C...</td>\n",
       "      <td>[cH:21]1[cH:22][cH:23][n:24][cH:25][cH:26]1&gt;&gt;[...</td>\n",
       "      <td>None</td>\n",
       "      <td>None</td>\n",
       "      <td>None</td>\n",
       "      <td>None</td>\n",
       "      <td>None</td>\n",
       "      <td>None</td>\n",
       "      <td>None</td>\n",
       "      <td>...</td>\n",
       "      <td>None</td>\n",
       "      <td>None</td>\n",
       "      <td>None</td>\n",
       "      <td>None</td>\n",
       "      <td>None</td>\n",
       "      <td>None</td>\n",
       "      <td>None</td>\n",
       "      <td>None</td>\n",
       "      <td>None</td>\n",
       "      <td>None</td>\n",
       "    </tr>\n",
       "    <tr>\n",
       "      <th>395494</th>\n",
       "      <td>[CH2:30]([CH3:31])[n:32]1[c:33]([N:41]2[CH2:42...</td>\n",
       "      <td>[F:1][c:2]1[cH:3][cH:4][c:5]([CH2:6][NH:7][C:8...</td>\n",
       "      <td>None</td>\n",
       "      <td>None</td>\n",
       "      <td>None</td>\n",
       "      <td>None</td>\n",
       "      <td>None</td>\n",
       "      <td>None</td>\n",
       "      <td>None</td>\n",
       "      <td>None</td>\n",
       "      <td>...</td>\n",
       "      <td>None</td>\n",
       "      <td>None</td>\n",
       "      <td>None</td>\n",
       "      <td>None</td>\n",
       "      <td>None</td>\n",
       "      <td>None</td>\n",
       "      <td>None</td>\n",
       "      <td>None</td>\n",
       "      <td>None</td>\n",
       "      <td>None</td>\n",
       "    </tr>\n",
       "    <tr>\n",
       "      <th>395495</th>\n",
       "      <td>[CH3:38][OH:39]</td>\n",
       "      <td>[F:29][c:30]1[c:31]([CH:32]=[O:33])[cH:34][cH:...</td>\n",
       "      <td>[NH2:1][c:2]1[c:3]([CH2:4][NH:5][C:6]([CH:7]([...</td>\n",
       "      <td>None</td>\n",
       "      <td>None</td>\n",
       "      <td>None</td>\n",
       "      <td>None</td>\n",
       "      <td>None</td>\n",
       "      <td>None</td>\n",
       "      <td>None</td>\n",
       "      <td>...</td>\n",
       "      <td>None</td>\n",
       "      <td>None</td>\n",
       "      <td>None</td>\n",
       "      <td>None</td>\n",
       "      <td>None</td>\n",
       "      <td>None</td>\n",
       "      <td>None</td>\n",
       "      <td>None</td>\n",
       "      <td>None</td>\n",
       "      <td>None</td>\n",
       "    </tr>\n",
       "    <tr>\n",
       "      <th>395496</th>\n",
       "      <td>[Br:1][c:2]1[cH:3][c:4]2[c:5](-[c:19]3[cH:20][...</td>\n",
       "      <td>[CH2:26]1[CH2:27][O:28][CH2:29][CH2:30][NH:31]...</td>\n",
       "      <td>None</td>\n",
       "      <td>None</td>\n",
       "      <td>None</td>\n",
       "      <td>None</td>\n",
       "      <td>None</td>\n",
       "      <td>None</td>\n",
       "      <td>None</td>\n",
       "      <td>None</td>\n",
       "      <td>...</td>\n",
       "      <td>None</td>\n",
       "      <td>None</td>\n",
       "      <td>None</td>\n",
       "      <td>None</td>\n",
       "      <td>None</td>\n",
       "      <td>None</td>\n",
       "      <td>None</td>\n",
       "      <td>None</td>\n",
       "      <td>None</td>\n",
       "      <td>None</td>\n",
       "    </tr>\n",
       "  </tbody>\n",
       "</table>\n",
       "<p>395497 rows × 29 columns</p>\n",
       "</div>"
      ],
      "text/plain": [
       "                                                       0   \\\n",
       "0             [CH2:15]([CH:16]([CH3:17])[CH3:18])[Mg+:19]   \n",
       "1                                        [CH3:14][NH2:15]   \n",
       "2       [CH2:1]([CH3:2])[n:3]1[cH:4][c:5]([C:22](=[O:2...   \n",
       "3       [Cl:1][C:2]([N:3]([CH3:4])[CH3:5])=[C:6]([CH3:...   \n",
       "4       [Cl:11][c:12]1[c:13]2[c:14]([n:15][c:16](-[c:1...   \n",
       "...                                                   ...   \n",
       "395492  [CH2:1]([CH3:2])[c:3]1[n:4](-[c:28]2[cH:29][cH...   \n",
       "395493  [Cl:14][C:15]([C:16](=[O:17])[Cl:18])([Cl:19])...   \n",
       "395494  [CH2:30]([CH3:31])[n:32]1[c:33]([N:41]2[CH2:42...   \n",
       "395495                                    [CH3:38][OH:39]   \n",
       "395496  [Br:1][c:2]1[cH:3][c:4]2[c:5](-[c:19]3[cH:20][...   \n",
       "\n",
       "                                                       1   \\\n",
       "0                [CH2:20]1[O:21][CH2:22][CH2:23][CH2:24]1   \n",
       "1       [N+:1](=[O:2])([O-:3])[c:4]1[cH:5][c:6]([C:7](...   \n",
       "2       [CH:25](=[O:26])[OH:27]>>[CH2:1]([CH3:2])[n:3]...   \n",
       "3                                  [Cl:51][CH2:52][Cl:53]   \n",
       "4       [Cl:1][c:2]1[cH:3][c:4]([CH2:5][NH2:6])[cH:7][...   \n",
       "...                                                   ...   \n",
       "395492      [CH3:86][CH2:87][O:88][C:89](=[O:90])[CH3:91]   \n",
       "395493  [NH2:1][CH:2]([C:3]([CH3:4])([OH:5])[CH3:6])[C...   \n",
       "395494  [F:1][c:2]1[cH:3][cH:4][c:5]([CH2:6][NH:7][C:8...   \n",
       "395495  [F:29][c:30]1[c:31]([CH:32]=[O:33])[cH:34][cH:...   \n",
       "395496  [CH2:26]1[CH2:27][O:28][CH2:29][CH2:30][NH:31]...   \n",
       "\n",
       "                                                       2   \\\n",
       "0                                                [Cl-:14]   \n",
       "1       [OH2:16]>>[N+:1](=[O:2])([O-:3])[c:4]1[cH:5][c...   \n",
       "2                                                    None   \n",
       "3       [N:9]1([C:13](=[O:14])[c:15]2[n:16][cH:17][c:1...   \n",
       "4                                                    None   \n",
       "...                                                   ...   \n",
       "395492  [O:66]=[C:67]([O:68][CH:69]([CH3:70])[CH3:71])...   \n",
       "395493  [cH:21]1[cH:22][cH:23][n:24][cH:25][cH:26]1>>[...   \n",
       "395494                                               None   \n",
       "395495  [NH2:1][c:2]1[c:3]([CH2:4][NH:5][C:6]([CH:7]([...   \n",
       "395496                                               None   \n",
       "\n",
       "                                                       3   \\\n",
       "0       [OH:1][c:2]1[n:3][cH:4][c:5]([C:6](=[O:7])[N:8...   \n",
       "1                                                    None   \n",
       "2                                                    None   \n",
       "3       [NH2:37][c:38]1[n:39][cH:40][c:41]([CH3:44])[n...   \n",
       "4                                                    None   \n",
       "...                                                   ...   \n",
       "395492           [O:80]1[CH2:81][CH2:82][CH2:83][CH2:84]1   \n",
       "395493                                               None   \n",
       "395494                                               None   \n",
       "395495                                               None   \n",
       "395496                                               None   \n",
       "\n",
       "                                                       4   \\\n",
       "0                                                    None   \n",
       "1                                                    None   \n",
       "2                                                    None   \n",
       "3       [cH:45]1[cH:46][cH:47][n:48][cH:49][cH:50]1>>[...   \n",
       "4                                                    None   \n",
       "...                                                   ...   \n",
       "395492                                           [OH2:85]   \n",
       "395493                                               None   \n",
       "395494                                               None   \n",
       "395495                                               None   \n",
       "395496                                               None   \n",
       "\n",
       "                                                       5   \\\n",
       "0                                                    None   \n",
       "1                                                    None   \n",
       "2                                                    None   \n",
       "3                                                    None   \n",
       "4                                                    None   \n",
       "...                                                   ...   \n",
       "395492  [OH:35][CH:36]1[CH2:37][CH2:38][CH:39]([C:42](...   \n",
       "395493                                               None   \n",
       "395494                                               None   \n",
       "395495                                               None   \n",
       "395496                                               None   \n",
       "\n",
       "                                                       6     7     8     9   \\\n",
       "0                                                    None  None  None  None   \n",
       "1                                                    None  None  None  None   \n",
       "2                                                    None  None  None  None   \n",
       "3                                                    None  None  None  None   \n",
       "4                                                    None  None  None  None   \n",
       "...                                                   ...   ...   ...   ...   \n",
       "395492  [c:47]1([P:48]([c:49]2[cH:50][cH:51][cH:52][cH...  None  None  None   \n",
       "395493                                               None  None  None  None   \n",
       "395494                                               None  None  None  None   \n",
       "395495                                               None  None  None  None   \n",
       "395496                                               None  None  None  None   \n",
       "\n",
       "        ...    19    20    21    22    23    24    25    26    27    28  \n",
       "0       ...  None  None  None  None  None  None  None  None  None  None  \n",
       "1       ...  None  None  None  None  None  None  None  None  None  None  \n",
       "2       ...  None  None  None  None  None  None  None  None  None  None  \n",
       "3       ...  None  None  None  None  None  None  None  None  None  None  \n",
       "4       ...  None  None  None  None  None  None  None  None  None  None  \n",
       "...     ...   ...   ...   ...   ...   ...   ...   ...   ...   ...   ...  \n",
       "395492  ...  None  None  None  None  None  None  None  None  None  None  \n",
       "395493  ...  None  None  None  None  None  None  None  None  None  None  \n",
       "395494  ...  None  None  None  None  None  None  None  None  None  None  \n",
       "395495  ...  None  None  None  None  None  None  None  None  None  None  \n",
       "395496  ...  None  None  None  None  None  None  None  None  None  None  \n",
       "\n",
       "[395497 rows x 29 columns]"
      ]
     },
     "execution_count": 17,
     "metadata": {},
     "output_type": "execute_result"
    }
   ],
   "source": [
    "split_df = df['chemicals'].str.split('.',expand=True)\n",
    "split_df"
   ]
  },
  {
   "cell_type": "code",
   "execution_count": 18,
   "id": "cf824296",
   "metadata": {},
   "outputs": [
    {
     "data": {
      "text/plain": [
       "0          0\n",
       "1          0\n",
       "2      62603\n",
       "3     128894\n",
       "4     198290\n",
       "5     261603\n",
       "6     316166\n",
       "7     352283\n",
       "8     372550\n",
       "9     382788\n",
       "10    388083\n",
       "11    391651\n",
       "12    393520\n",
       "13    394456\n",
       "14    394899\n",
       "15    395125\n",
       "16    395240\n",
       "17    395298\n",
       "18    395328\n",
       "19    395345\n",
       "20    395351\n",
       "21    395444\n",
       "22    395483\n",
       "23    395491\n",
       "24    395494\n",
       "25    395495\n",
       "26    395496\n",
       "27    395496\n",
       "28    395496\n",
       "dtype: int64"
      ]
     },
     "execution_count": 18,
     "metadata": {},
     "output_type": "execute_result"
    }
   ],
   "source": [
    "split_df.isnull().sum()"
   ]
  },
  {
   "cell_type": "code",
   "execution_count": 19,
   "id": "b9df6cc4",
   "metadata": {},
   "outputs": [
    {
     "data": {
      "text/plain": [
       "[0,\n",
       " 1,\n",
       " 2,\n",
       " 3,\n",
       " 4,\n",
       " 5,\n",
       " 6,\n",
       " 7,\n",
       " 8,\n",
       " 9,\n",
       " 10,\n",
       " 11,\n",
       " 12,\n",
       " 13,\n",
       " 14,\n",
       " 15,\n",
       " 16,\n",
       " 17,\n",
       " 18,\n",
       " 19,\n",
       " 20,\n",
       " 21,\n",
       " 22,\n",
       " 23,\n",
       " 24,\n",
       " 25,\n",
       " 26,\n",
       " 27,\n",
       " 28]"
      ]
     },
     "execution_count": 19,
     "metadata": {},
     "output_type": "execute_result"
    }
   ],
   "source": [
    "split_df.columns.values.tolist()"
   ]
  },
  {
   "cell_type": "code",
   "execution_count": 20,
   "id": "2aa1da06",
   "metadata": {},
   "outputs": [],
   "source": [
    "split_df.drop([7,8,9,10,11,12,13,14,15,16,17,18,19,20,21,22,23,24,25,26,27,28],axis=1,inplace=True)"
   ]
  },
  {
   "cell_type": "code",
   "execution_count": 21,
   "id": "8c67d1cc",
   "metadata": {},
   "outputs": [
    {
     "data": {
      "text/html": [
       "<div>\n",
       "<style scoped>\n",
       "    .dataframe tbody tr th:only-of-type {\n",
       "        vertical-align: middle;\n",
       "    }\n",
       "\n",
       "    .dataframe tbody tr th {\n",
       "        vertical-align: top;\n",
       "    }\n",
       "\n",
       "    .dataframe thead th {\n",
       "        text-align: right;\n",
       "    }\n",
       "</style>\n",
       "<table border=\"1\" class=\"dataframe\">\n",
       "  <thead>\n",
       "    <tr style=\"text-align: right;\">\n",
       "      <th></th>\n",
       "      <th>0</th>\n",
       "      <th>1</th>\n",
       "      <th>2</th>\n",
       "      <th>3</th>\n",
       "      <th>4</th>\n",
       "      <th>5</th>\n",
       "      <th>6</th>\n",
       "    </tr>\n",
       "  </thead>\n",
       "  <tbody>\n",
       "    <tr>\n",
       "      <th>0</th>\n",
       "      <td>[CH2:15]([CH:16]([CH3:17])[CH3:18])[Mg+:19]</td>\n",
       "      <td>[CH2:20]1[O:21][CH2:22][CH2:23][CH2:24]1</td>\n",
       "      <td>[Cl-:14]</td>\n",
       "      <td>[OH:1][c:2]1[n:3][cH:4][c:5]([C:6](=[O:7])[N:8...</td>\n",
       "      <td>None</td>\n",
       "      <td>None</td>\n",
       "      <td>None</td>\n",
       "    </tr>\n",
       "    <tr>\n",
       "      <th>1</th>\n",
       "      <td>[CH3:14][NH2:15]</td>\n",
       "      <td>[N+:1](=[O:2])([O-:3])[c:4]1[cH:5][c:6]([C:7](...</td>\n",
       "      <td>[OH2:16]&gt;&gt;[N+:1](=[O:2])([O-:3])[c:4]1[cH:5][c...</td>\n",
       "      <td>None</td>\n",
       "      <td>None</td>\n",
       "      <td>None</td>\n",
       "      <td>None</td>\n",
       "    </tr>\n",
       "    <tr>\n",
       "      <th>2</th>\n",
       "      <td>[CH2:1]([CH3:2])[n:3]1[cH:4][c:5]([C:22](=[O:2...</td>\n",
       "      <td>[CH:25](=[O:26])[OH:27]&gt;&gt;[CH2:1]([CH3:2])[n:3]...</td>\n",
       "      <td>None</td>\n",
       "      <td>None</td>\n",
       "      <td>None</td>\n",
       "      <td>None</td>\n",
       "      <td>None</td>\n",
       "    </tr>\n",
       "    <tr>\n",
       "      <th>3</th>\n",
       "      <td>[Cl:1][C:2]([N:3]([CH3:4])[CH3:5])=[C:6]([CH3:...</td>\n",
       "      <td>[Cl:51][CH2:52][Cl:53]</td>\n",
       "      <td>[N:9]1([C:13](=[O:14])[c:15]2[n:16][cH:17][c:1...</td>\n",
       "      <td>[NH2:37][c:38]1[n:39][cH:40][c:41]([CH3:44])[n...</td>\n",
       "      <td>[cH:45]1[cH:46][cH:47][n:48][cH:49][cH:50]1&gt;&gt;[...</td>\n",
       "      <td>None</td>\n",
       "      <td>None</td>\n",
       "    </tr>\n",
       "    <tr>\n",
       "      <th>4</th>\n",
       "      <td>[Cl:11][c:12]1[c:13]2[c:14]([n:15][c:16](-[c:1...</td>\n",
       "      <td>[Cl:1][c:2]1[cH:3][c:4]([CH2:5][NH2:6])[cH:7][...</td>\n",
       "      <td>None</td>\n",
       "      <td>None</td>\n",
       "      <td>None</td>\n",
       "      <td>None</td>\n",
       "      <td>None</td>\n",
       "    </tr>\n",
       "    <tr>\n",
       "      <th>...</th>\n",
       "      <td>...</td>\n",
       "      <td>...</td>\n",
       "      <td>...</td>\n",
       "      <td>...</td>\n",
       "      <td>...</td>\n",
       "      <td>...</td>\n",
       "      <td>...</td>\n",
       "    </tr>\n",
       "    <tr>\n",
       "      <th>395492</th>\n",
       "      <td>[CH2:1]([CH3:2])[c:3]1[n:4](-[c:28]2[cH:29][cH...</td>\n",
       "      <td>[CH3:86][CH2:87][O:88][C:89](=[O:90])[CH3:91]</td>\n",
       "      <td>[O:66]=[C:67]([O:68][CH:69]([CH3:70])[CH3:71])...</td>\n",
       "      <td>[O:80]1[CH2:81][CH2:82][CH2:83][CH2:84]1</td>\n",
       "      <td>[OH2:85]</td>\n",
       "      <td>[OH:35][CH:36]1[CH2:37][CH2:38][CH:39]([C:42](...</td>\n",
       "      <td>[c:47]1([P:48]([c:49]2[cH:50][cH:51][cH:52][cH...</td>\n",
       "    </tr>\n",
       "    <tr>\n",
       "      <th>395493</th>\n",
       "      <td>[Cl:14][C:15]([C:16](=[O:17])[Cl:18])([Cl:19])...</td>\n",
       "      <td>[NH2:1][CH:2]([C:3]([CH3:4])([OH:5])[CH3:6])[C...</td>\n",
       "      <td>[cH:21]1[cH:22][cH:23][n:24][cH:25][cH:26]1&gt;&gt;[...</td>\n",
       "      <td>None</td>\n",
       "      <td>None</td>\n",
       "      <td>None</td>\n",
       "      <td>None</td>\n",
       "    </tr>\n",
       "    <tr>\n",
       "      <th>395494</th>\n",
       "      <td>[CH2:30]([CH3:31])[n:32]1[c:33]([N:41]2[CH2:42...</td>\n",
       "      <td>[F:1][c:2]1[cH:3][cH:4][c:5]([CH2:6][NH:7][C:8...</td>\n",
       "      <td>None</td>\n",
       "      <td>None</td>\n",
       "      <td>None</td>\n",
       "      <td>None</td>\n",
       "      <td>None</td>\n",
       "    </tr>\n",
       "    <tr>\n",
       "      <th>395495</th>\n",
       "      <td>[CH3:38][OH:39]</td>\n",
       "      <td>[F:29][c:30]1[c:31]([CH:32]=[O:33])[cH:34][cH:...</td>\n",
       "      <td>[NH2:1][c:2]1[c:3]([CH2:4][NH:5][C:6]([CH:7]([...</td>\n",
       "      <td>None</td>\n",
       "      <td>None</td>\n",
       "      <td>None</td>\n",
       "      <td>None</td>\n",
       "    </tr>\n",
       "    <tr>\n",
       "      <th>395496</th>\n",
       "      <td>[Br:1][c:2]1[cH:3][c:4]2[c:5](-[c:19]3[cH:20][...</td>\n",
       "      <td>[CH2:26]1[CH2:27][O:28][CH2:29][CH2:30][NH:31]...</td>\n",
       "      <td>None</td>\n",
       "      <td>None</td>\n",
       "      <td>None</td>\n",
       "      <td>None</td>\n",
       "      <td>None</td>\n",
       "    </tr>\n",
       "  </tbody>\n",
       "</table>\n",
       "<p>395497 rows × 7 columns</p>\n",
       "</div>"
      ],
      "text/plain": [
       "                                                        0  \\\n",
       "0             [CH2:15]([CH:16]([CH3:17])[CH3:18])[Mg+:19]   \n",
       "1                                        [CH3:14][NH2:15]   \n",
       "2       [CH2:1]([CH3:2])[n:3]1[cH:4][c:5]([C:22](=[O:2...   \n",
       "3       [Cl:1][C:2]([N:3]([CH3:4])[CH3:5])=[C:6]([CH3:...   \n",
       "4       [Cl:11][c:12]1[c:13]2[c:14]([n:15][c:16](-[c:1...   \n",
       "...                                                   ...   \n",
       "395492  [CH2:1]([CH3:2])[c:3]1[n:4](-[c:28]2[cH:29][cH...   \n",
       "395493  [Cl:14][C:15]([C:16](=[O:17])[Cl:18])([Cl:19])...   \n",
       "395494  [CH2:30]([CH3:31])[n:32]1[c:33]([N:41]2[CH2:42...   \n",
       "395495                                    [CH3:38][OH:39]   \n",
       "395496  [Br:1][c:2]1[cH:3][c:4]2[c:5](-[c:19]3[cH:20][...   \n",
       "\n",
       "                                                        1  \\\n",
       "0                [CH2:20]1[O:21][CH2:22][CH2:23][CH2:24]1   \n",
       "1       [N+:1](=[O:2])([O-:3])[c:4]1[cH:5][c:6]([C:7](...   \n",
       "2       [CH:25](=[O:26])[OH:27]>>[CH2:1]([CH3:2])[n:3]...   \n",
       "3                                  [Cl:51][CH2:52][Cl:53]   \n",
       "4       [Cl:1][c:2]1[cH:3][c:4]([CH2:5][NH2:6])[cH:7][...   \n",
       "...                                                   ...   \n",
       "395492      [CH3:86][CH2:87][O:88][C:89](=[O:90])[CH3:91]   \n",
       "395493  [NH2:1][CH:2]([C:3]([CH3:4])([OH:5])[CH3:6])[C...   \n",
       "395494  [F:1][c:2]1[cH:3][cH:4][c:5]([CH2:6][NH:7][C:8...   \n",
       "395495  [F:29][c:30]1[c:31]([CH:32]=[O:33])[cH:34][cH:...   \n",
       "395496  [CH2:26]1[CH2:27][O:28][CH2:29][CH2:30][NH:31]...   \n",
       "\n",
       "                                                        2  \\\n",
       "0                                                [Cl-:14]   \n",
       "1       [OH2:16]>>[N+:1](=[O:2])([O-:3])[c:4]1[cH:5][c...   \n",
       "2                                                    None   \n",
       "3       [N:9]1([C:13](=[O:14])[c:15]2[n:16][cH:17][c:1...   \n",
       "4                                                    None   \n",
       "...                                                   ...   \n",
       "395492  [O:66]=[C:67]([O:68][CH:69]([CH3:70])[CH3:71])...   \n",
       "395493  [cH:21]1[cH:22][cH:23][n:24][cH:25][cH:26]1>>[...   \n",
       "395494                                               None   \n",
       "395495  [NH2:1][c:2]1[c:3]([CH2:4][NH:5][C:6]([CH:7]([...   \n",
       "395496                                               None   \n",
       "\n",
       "                                                        3  \\\n",
       "0       [OH:1][c:2]1[n:3][cH:4][c:5]([C:6](=[O:7])[N:8...   \n",
       "1                                                    None   \n",
       "2                                                    None   \n",
       "3       [NH2:37][c:38]1[n:39][cH:40][c:41]([CH3:44])[n...   \n",
       "4                                                    None   \n",
       "...                                                   ...   \n",
       "395492           [O:80]1[CH2:81][CH2:82][CH2:83][CH2:84]1   \n",
       "395493                                               None   \n",
       "395494                                               None   \n",
       "395495                                               None   \n",
       "395496                                               None   \n",
       "\n",
       "                                                        4  \\\n",
       "0                                                    None   \n",
       "1                                                    None   \n",
       "2                                                    None   \n",
       "3       [cH:45]1[cH:46][cH:47][n:48][cH:49][cH:50]1>>[...   \n",
       "4                                                    None   \n",
       "...                                                   ...   \n",
       "395492                                           [OH2:85]   \n",
       "395493                                               None   \n",
       "395494                                               None   \n",
       "395495                                               None   \n",
       "395496                                               None   \n",
       "\n",
       "                                                        5  \\\n",
       "0                                                    None   \n",
       "1                                                    None   \n",
       "2                                                    None   \n",
       "3                                                    None   \n",
       "4                                                    None   \n",
       "...                                                   ...   \n",
       "395492  [OH:35][CH:36]1[CH2:37][CH2:38][CH:39]([C:42](...   \n",
       "395493                                               None   \n",
       "395494                                               None   \n",
       "395495                                               None   \n",
       "395496                                               None   \n",
       "\n",
       "                                                        6  \n",
       "0                                                    None  \n",
       "1                                                    None  \n",
       "2                                                    None  \n",
       "3                                                    None  \n",
       "4                                                    None  \n",
       "...                                                   ...  \n",
       "395492  [c:47]1([P:48]([c:49]2[cH:50][cH:51][cH:52][cH...  \n",
       "395493                                               None  \n",
       "395494                                               None  \n",
       "395495                                               None  \n",
       "395496                                               None  \n",
       "\n",
       "[395497 rows x 7 columns]"
      ]
     },
     "execution_count": 21,
     "metadata": {},
     "output_type": "execute_result"
    }
   ],
   "source": [
    "split_df"
   ]
  },
  {
   "cell_type": "code",
   "execution_count": 22,
   "id": "24e245f3",
   "metadata": {},
   "outputs": [
    {
     "name": "stdout",
     "output_type": "stream",
     "text": [
      "[N+:1](=[O:2])([O-:3])[c:4]1[cH:5][c:6]([C:7](=[O:8])[OH:9])[cH:10][cH:11][c:12]1[Cl:13]\n"
     ]
    }
   ],
   "source": [
    "a1 = split_df[1]\n",
    "#print(a1)\n",
    "b1 = a1[1]\n",
    "print(b1)"
   ]
  },
  {
   "cell_type": "code",
   "execution_count": 23,
   "id": "e1558810",
   "metadata": {},
   "outputs": [
    {
     "name": "stdout",
     "output_type": "stream",
     "text": [
      "[OH2:16]>>[N+:1](=[O:2])([O-:3])[c:4]1[cH:5][c:6]([C:7](=[O:8])[OH:9])[cH:10][cH:11][c:12]1[NH:15][CH3:14] 12-13;12-15\n"
     ]
    }
   ],
   "source": [
    "a2 = split_df[2]\n",
    "b2 = a2[1]\n",
    "print(b2)"
   ]
  },
  {
   "cell_type": "code",
   "execution_count": 24,
   "id": "5a9e3fdd",
   "metadata": {},
   "outputs": [
    {
     "name": "stdout",
     "output_type": "stream",
     "text": [
      "[NH2:37][c:38]1[n:39][cH:40][c:41]([CH3:44])[n:42][cH:43]1\n"
     ]
    }
   ],
   "source": [
    "a3 = split_df[3]\n",
    "b3 = a3[3]\n",
    "print(b3)"
   ]
  },
  {
   "cell_type": "code",
   "execution_count": 25,
   "id": "98244cf7",
   "metadata": {},
   "outputs": [
    {
     "name": "stdout",
     "output_type": "stream",
     "text": [
      "[cH:45]1[cH:46][cH:47][n:48][cH:49][cH:50]1>>[N:9]1([C:13](=[O:14])[c:15]2[n:16][cH:17][c:18]([O:21][c:22]3[cH:23][c:24]([C:25](=[O:27])[NH:37][c:38]4[n:39][cH:40][c:41]([CH3:44])[n:42][cH:43]4)[cH:28][c:29]([O:31][CH:32]([CH2:33][O:34][CH3:35])[CH3:36])[cH:30]3)[n:19][cH:20]2)[CH2:10][CH2:11][CH2:12]1 25-26;25-37;25-27\n"
     ]
    }
   ],
   "source": [
    "a4 = split_df[4]\n",
    "b4 = a4[3]\n",
    "print(b4)"
   ]
  },
  {
   "cell_type": "code",
   "execution_count": 26,
   "id": "6897e72c",
   "metadata": {},
   "outputs": [
    {
     "name": "stdout",
     "output_type": "stream",
     "text": [
      "[OH:35][CH:36]1[CH2:37][CH2:38][CH:39]([C:42](=[O:43])[O:44][CH2:45][CH3:46])[CH2:40][CH2:41]1\n"
     ]
    }
   ],
   "source": [
    "a5 = split_df[5]\n",
    "b5 = a5[395492]\n",
    "print(b5)"
   ]
  },
  {
   "cell_type": "code",
   "execution_count": 27,
   "id": "9923f94f",
   "metadata": {},
   "outputs": [
    {
     "name": "stdout",
     "output_type": "stream",
     "text": [
      "[c:47]1([P:48]([c:49]2[cH:50][cH:51][cH:52][cH:53][cH:54]2)[c:55]2[cH:56][cH:57][cH:58][cH:59][cH:60]2)[cH:61][cH:62][cH:63][cH:64][cH:65]1>>[CH2:1]([CH3:2])[c:3]1[n:4](-[c:28]2[cH:29][cH:30][c:31]([O:34][CH:36]3[CH2:37][CH2:38][CH:39]([C:42](=[O:43])[O:44][CH2:45][CH3:46])[CH2:40][CH2:41]3)[cH:32][cH:33]2)[c:5](=[O:27])[c:6]([CH2:12][c:13]2[cH:14][cH:15][c:16](-[c:19]3[c:20]([C:25]#[N:26])[cH:21][cH:22][cH:23][cH:24]3)[cH:17][cH:18]2)[c:7]([CH2:9][CH2:10][CH3:11])[n:8]1 35-36;34-36\n"
     ]
    }
   ],
   "source": [
    "a6 = split_df[6]\n",
    "b6 = a6[395492]\n",
    "print(b6)"
   ]
  },
  {
   "cell_type": "code",
   "execution_count": 28,
   "id": "546c5e1b",
   "metadata": {},
   "outputs": [
    {
     "data": {
      "text/html": [
       "<div>\n",
       "<style scoped>\n",
       "    .dataframe tbody tr th:only-of-type {\n",
       "        vertical-align: middle;\n",
       "    }\n",
       "\n",
       "    .dataframe tbody tr th {\n",
       "        vertical-align: top;\n",
       "    }\n",
       "\n",
       "    .dataframe thead th {\n",
       "        text-align: right;\n",
       "    }\n",
       "</style>\n",
       "<table border=\"1\" class=\"dataframe\">\n",
       "  <thead>\n",
       "    <tr style=\"text-align: right;\">\n",
       "      <th></th>\n",
       "      <th>0</th>\n",
       "      <th>1</th>\n",
       "      <th>2</th>\n",
       "      <th>3</th>\n",
       "      <th>4</th>\n",
       "      <th>5</th>\n",
       "      <th>6</th>\n",
       "    </tr>\n",
       "  </thead>\n",
       "  <tbody>\n",
       "    <tr>\n",
       "      <th>0</th>\n",
       "      <td>[CH2:15]([CH:16]([CH3:17])[CH3:18])[Mg+:19]</td>\n",
       "      <td>[CH2:20]1[O:21][CH2:22][CH2:23][CH2:24]1</td>\n",
       "      <td>[Cl-:14]</td>\n",
       "      <td>[OH:1][c:2]1[n:3][cH:4][c:5]([C:6](=[O:7])[N:8...</td>\n",
       "      <td>None</td>\n",
       "      <td>None</td>\n",
       "      <td>None</td>\n",
       "    </tr>\n",
       "    <tr>\n",
       "      <th>1</th>\n",
       "      <td>[CH3:14][NH2:15]</td>\n",
       "      <td>[N+:1](=[O:2])([O-:3])[c:4]1[cH:5][c:6]([C:7](...</td>\n",
       "      <td>[OH2:16]&gt;&gt;[N+:1](=[O:2])([O-:3])[c:4]1[cH:5][c...</td>\n",
       "      <td>None</td>\n",
       "      <td>None</td>\n",
       "      <td>None</td>\n",
       "      <td>None</td>\n",
       "    </tr>\n",
       "    <tr>\n",
       "      <th>2</th>\n",
       "      <td>[CH2:1]([CH3:2])[n:3]1[cH:4][c:5]([C:22](=[O:2...</td>\n",
       "      <td>[CH:25](=[O:26])[OH:27]&gt;&gt;[CH2:1]([CH3:2])[n:3]...</td>\n",
       "      <td>None</td>\n",
       "      <td>None</td>\n",
       "      <td>None</td>\n",
       "      <td>None</td>\n",
       "      <td>None</td>\n",
       "    </tr>\n",
       "    <tr>\n",
       "      <th>3</th>\n",
       "      <td>[Cl:1][C:2]([N:3]([CH3:4])[CH3:5])=[C:6]([CH3:...</td>\n",
       "      <td>[Cl:51][CH2:52][Cl:53]</td>\n",
       "      <td>[N:9]1([C:13](=[O:14])[c:15]2[n:16][cH:17][c:1...</td>\n",
       "      <td>[NH2:37][c:38]1[n:39][cH:40][c:41]([CH3:44])[n...</td>\n",
       "      <td>[cH:45]1[cH:46][cH:47][n:48][cH:49][cH:50]1&gt;&gt;[...</td>\n",
       "      <td>None</td>\n",
       "      <td>None</td>\n",
       "    </tr>\n",
       "    <tr>\n",
       "      <th>4</th>\n",
       "      <td>[Cl:11][c:12]1[c:13]2[c:14]([n:15][c:16](-[c:1...</td>\n",
       "      <td>[Cl:1][c:2]1[cH:3][c:4]([CH2:5][NH2:6])[cH:7][...</td>\n",
       "      <td>None</td>\n",
       "      <td>None</td>\n",
       "      <td>None</td>\n",
       "      <td>None</td>\n",
       "      <td>None</td>\n",
       "    </tr>\n",
       "  </tbody>\n",
       "</table>\n",
       "</div>"
      ],
      "text/plain": [
       "                                                   0  \\\n",
       "0        [CH2:15]([CH:16]([CH3:17])[CH3:18])[Mg+:19]   \n",
       "1                                   [CH3:14][NH2:15]   \n",
       "2  [CH2:1]([CH3:2])[n:3]1[cH:4][c:5]([C:22](=[O:2...   \n",
       "3  [Cl:1][C:2]([N:3]([CH3:4])[CH3:5])=[C:6]([CH3:...   \n",
       "4  [Cl:11][c:12]1[c:13]2[c:14]([n:15][c:16](-[c:1...   \n",
       "\n",
       "                                                   1  \\\n",
       "0           [CH2:20]1[O:21][CH2:22][CH2:23][CH2:24]1   \n",
       "1  [N+:1](=[O:2])([O-:3])[c:4]1[cH:5][c:6]([C:7](...   \n",
       "2  [CH:25](=[O:26])[OH:27]>>[CH2:1]([CH3:2])[n:3]...   \n",
       "3                             [Cl:51][CH2:52][Cl:53]   \n",
       "4  [Cl:1][c:2]1[cH:3][c:4]([CH2:5][NH2:6])[cH:7][...   \n",
       "\n",
       "                                                   2  \\\n",
       "0                                           [Cl-:14]   \n",
       "1  [OH2:16]>>[N+:1](=[O:2])([O-:3])[c:4]1[cH:5][c...   \n",
       "2                                               None   \n",
       "3  [N:9]1([C:13](=[O:14])[c:15]2[n:16][cH:17][c:1...   \n",
       "4                                               None   \n",
       "\n",
       "                                                   3  \\\n",
       "0  [OH:1][c:2]1[n:3][cH:4][c:5]([C:6](=[O:7])[N:8...   \n",
       "1                                               None   \n",
       "2                                               None   \n",
       "3  [NH2:37][c:38]1[n:39][cH:40][c:41]([CH3:44])[n...   \n",
       "4                                               None   \n",
       "\n",
       "                                                   4     5     6  \n",
       "0                                               None  None  None  \n",
       "1                                               None  None  None  \n",
       "2                                               None  None  None  \n",
       "3  [cH:45]1[cH:46][cH:47][n:48][cH:49][cH:50]1>>[...  None  None  \n",
       "4                                               None  None  None  "
      ]
     },
     "execution_count": 28,
     "metadata": {},
     "output_type": "execute_result"
    }
   ],
   "source": [
    "split_df.head()"
   ]
  },
  {
   "cell_type": "code",
   "execution_count": 29,
   "id": "20df93b2",
   "metadata": {},
   "outputs": [
    {
     "data": {
      "text/plain": [
       "0         0\n",
       "1         0\n",
       "2     62603\n",
       "3    128894\n",
       "4    198290\n",
       "5    261603\n",
       "6    316166\n",
       "dtype: int64"
      ]
     },
     "execution_count": 29,
     "metadata": {},
     "output_type": "execute_result"
    }
   ],
   "source": [
    "split_df.isnull().sum()"
   ]
  },
  {
   "cell_type": "code",
   "execution_count": 30,
   "id": "d19454f4",
   "metadata": {},
   "outputs": [],
   "source": [
    "split_df.drop([6],axis=1,inplace=True)"
   ]
  },
  {
   "cell_type": "code",
   "execution_count": 31,
   "id": "f08e7598",
   "metadata": {},
   "outputs": [
    {
     "data": {
      "text/plain": [
       "0         0\n",
       "1         0\n",
       "2     62603\n",
       "3    128894\n",
       "4    198290\n",
       "5    261603\n",
       "dtype: int64"
      ]
     },
     "execution_count": 31,
     "metadata": {},
     "output_type": "execute_result"
    }
   ],
   "source": [
    "split_df.isnull().sum()"
   ]
  },
  {
   "cell_type": "code",
   "execution_count": 32,
   "id": "cca0e97c",
   "metadata": {},
   "outputs": [
    {
     "data": {
      "text/plain": [
       "(395497, 6)"
      ]
     },
     "execution_count": 32,
     "metadata": {},
     "output_type": "execute_result"
    }
   ],
   "source": [
    "split_df.shape"
   ]
  },
  {
   "cell_type": "code",
   "execution_count": 33,
   "id": "bd6ebe57",
   "metadata": {},
   "outputs": [],
   "source": [
    "split_df.drop([4,5],axis=1,inplace=True)"
   ]
  },
  {
   "cell_type": "code",
   "execution_count": 34,
   "id": "7cd3bccc",
   "metadata": {},
   "outputs": [
    {
     "data": {
      "text/html": [
       "<div>\n",
       "<style scoped>\n",
       "    .dataframe tbody tr th:only-of-type {\n",
       "        vertical-align: middle;\n",
       "    }\n",
       "\n",
       "    .dataframe tbody tr th {\n",
       "        vertical-align: top;\n",
       "    }\n",
       "\n",
       "    .dataframe thead th {\n",
       "        text-align: right;\n",
       "    }\n",
       "</style>\n",
       "<table border=\"1\" class=\"dataframe\">\n",
       "  <thead>\n",
       "    <tr style=\"text-align: right;\">\n",
       "      <th></th>\n",
       "      <th>0</th>\n",
       "      <th>1</th>\n",
       "      <th>2</th>\n",
       "      <th>3</th>\n",
       "    </tr>\n",
       "  </thead>\n",
       "  <tbody>\n",
       "    <tr>\n",
       "      <th>0</th>\n",
       "      <td>[CH2:15]([CH:16]([CH3:17])[CH3:18])[Mg+:19]</td>\n",
       "      <td>[CH2:20]1[O:21][CH2:22][CH2:23][CH2:24]1</td>\n",
       "      <td>[Cl-:14]</td>\n",
       "      <td>[OH:1][c:2]1[n:3][cH:4][c:5]([C:6](=[O:7])[N:8...</td>\n",
       "    </tr>\n",
       "    <tr>\n",
       "      <th>1</th>\n",
       "      <td>[CH3:14][NH2:15]</td>\n",
       "      <td>[N+:1](=[O:2])([O-:3])[c:4]1[cH:5][c:6]([C:7](...</td>\n",
       "      <td>[OH2:16]&gt;&gt;[N+:1](=[O:2])([O-:3])[c:4]1[cH:5][c...</td>\n",
       "      <td>None</td>\n",
       "    </tr>\n",
       "    <tr>\n",
       "      <th>2</th>\n",
       "      <td>[CH2:1]([CH3:2])[n:3]1[cH:4][c:5]([C:22](=[O:2...</td>\n",
       "      <td>[CH:25](=[O:26])[OH:27]&gt;&gt;[CH2:1]([CH3:2])[n:3]...</td>\n",
       "      <td>None</td>\n",
       "      <td>None</td>\n",
       "    </tr>\n",
       "    <tr>\n",
       "      <th>3</th>\n",
       "      <td>[Cl:1][C:2]([N:3]([CH3:4])[CH3:5])=[C:6]([CH3:...</td>\n",
       "      <td>[Cl:51][CH2:52][Cl:53]</td>\n",
       "      <td>[N:9]1([C:13](=[O:14])[c:15]2[n:16][cH:17][c:1...</td>\n",
       "      <td>[NH2:37][c:38]1[n:39][cH:40][c:41]([CH3:44])[n...</td>\n",
       "    </tr>\n",
       "    <tr>\n",
       "      <th>4</th>\n",
       "      <td>[Cl:11][c:12]1[c:13]2[c:14]([n:15][c:16](-[c:1...</td>\n",
       "      <td>[Cl:1][c:2]1[cH:3][c:4]([CH2:5][NH2:6])[cH:7][...</td>\n",
       "      <td>None</td>\n",
       "      <td>None</td>\n",
       "    </tr>\n",
       "  </tbody>\n",
       "</table>\n",
       "</div>"
      ],
      "text/plain": [
       "                                                   0  \\\n",
       "0        [CH2:15]([CH:16]([CH3:17])[CH3:18])[Mg+:19]   \n",
       "1                                   [CH3:14][NH2:15]   \n",
       "2  [CH2:1]([CH3:2])[n:3]1[cH:4][c:5]([C:22](=[O:2...   \n",
       "3  [Cl:1][C:2]([N:3]([CH3:4])[CH3:5])=[C:6]([CH3:...   \n",
       "4  [Cl:11][c:12]1[c:13]2[c:14]([n:15][c:16](-[c:1...   \n",
       "\n",
       "                                                   1  \\\n",
       "0           [CH2:20]1[O:21][CH2:22][CH2:23][CH2:24]1   \n",
       "1  [N+:1](=[O:2])([O-:3])[c:4]1[cH:5][c:6]([C:7](...   \n",
       "2  [CH:25](=[O:26])[OH:27]>>[CH2:1]([CH3:2])[n:3]...   \n",
       "3                             [Cl:51][CH2:52][Cl:53]   \n",
       "4  [Cl:1][c:2]1[cH:3][c:4]([CH2:5][NH2:6])[cH:7][...   \n",
       "\n",
       "                                                   2  \\\n",
       "0                                           [Cl-:14]   \n",
       "1  [OH2:16]>>[N+:1](=[O:2])([O-:3])[c:4]1[cH:5][c...   \n",
       "2                                               None   \n",
       "3  [N:9]1([C:13](=[O:14])[c:15]2[n:16][cH:17][c:1...   \n",
       "4                                               None   \n",
       "\n",
       "                                                   3  \n",
       "0  [OH:1][c:2]1[n:3][cH:4][c:5]([C:6](=[O:7])[N:8...  \n",
       "1                                               None  \n",
       "2                                               None  \n",
       "3  [NH2:37][c:38]1[n:39][cH:40][c:41]([CH3:44])[n...  \n",
       "4                                               None  "
      ]
     },
     "execution_count": 34,
     "metadata": {},
     "output_type": "execute_result"
    }
   ],
   "source": [
    "split_df.head(5)"
   ]
  },
  {
   "cell_type": "code",
   "execution_count": 35,
   "id": "c6afa5c7",
   "metadata": {},
   "outputs": [],
   "source": [
    "split_df.rename(columns={0:'chem_1',\n",
    "                        1:'chem_2',\n",
    "                        2:'chem_3',\n",
    "                        3:'chem_4'},\n",
    "               inplace=True, errors='raise')"
   ]
  },
  {
   "cell_type": "code",
   "execution_count": 36,
   "id": "847d3753",
   "metadata": {},
   "outputs": [
    {
     "data": {
      "text/html": [
       "<div>\n",
       "<style scoped>\n",
       "    .dataframe tbody tr th:only-of-type {\n",
       "        vertical-align: middle;\n",
       "    }\n",
       "\n",
       "    .dataframe tbody tr th {\n",
       "        vertical-align: top;\n",
       "    }\n",
       "\n",
       "    .dataframe thead th {\n",
       "        text-align: right;\n",
       "    }\n",
       "</style>\n",
       "<table border=\"1\" class=\"dataframe\">\n",
       "  <thead>\n",
       "    <tr style=\"text-align: right;\">\n",
       "      <th></th>\n",
       "      <th>chem_1</th>\n",
       "      <th>chem_2</th>\n",
       "      <th>chem_3</th>\n",
       "      <th>chem_4</th>\n",
       "    </tr>\n",
       "  </thead>\n",
       "  <tbody>\n",
       "    <tr>\n",
       "      <th>0</th>\n",
       "      <td>[CH2:15]([CH:16]([CH3:17])[CH3:18])[Mg+:19]</td>\n",
       "      <td>[CH2:20]1[O:21][CH2:22][CH2:23][CH2:24]1</td>\n",
       "      <td>[Cl-:14]</td>\n",
       "      <td>[OH:1][c:2]1[n:3][cH:4][c:5]([C:6](=[O:7])[N:8...</td>\n",
       "    </tr>\n",
       "    <tr>\n",
       "      <th>1</th>\n",
       "      <td>[CH3:14][NH2:15]</td>\n",
       "      <td>[N+:1](=[O:2])([O-:3])[c:4]1[cH:5][c:6]([C:7](...</td>\n",
       "      <td>[OH2:16]&gt;&gt;[N+:1](=[O:2])([O-:3])[c:4]1[cH:5][c...</td>\n",
       "      <td>None</td>\n",
       "    </tr>\n",
       "    <tr>\n",
       "      <th>2</th>\n",
       "      <td>[CH2:1]([CH3:2])[n:3]1[cH:4][c:5]([C:22](=[O:2...</td>\n",
       "      <td>[CH:25](=[O:26])[OH:27]&gt;&gt;[CH2:1]([CH3:2])[n:3]...</td>\n",
       "      <td>None</td>\n",
       "      <td>None</td>\n",
       "    </tr>\n",
       "    <tr>\n",
       "      <th>3</th>\n",
       "      <td>[Cl:1][C:2]([N:3]([CH3:4])[CH3:5])=[C:6]([CH3:...</td>\n",
       "      <td>[Cl:51][CH2:52][Cl:53]</td>\n",
       "      <td>[N:9]1([C:13](=[O:14])[c:15]2[n:16][cH:17][c:1...</td>\n",
       "      <td>[NH2:37][c:38]1[n:39][cH:40][c:41]([CH3:44])[n...</td>\n",
       "    </tr>\n",
       "    <tr>\n",
       "      <th>4</th>\n",
       "      <td>[Cl:11][c:12]1[c:13]2[c:14]([n:15][c:16](-[c:1...</td>\n",
       "      <td>[Cl:1][c:2]1[cH:3][c:4]([CH2:5][NH2:6])[cH:7][...</td>\n",
       "      <td>None</td>\n",
       "      <td>None</td>\n",
       "    </tr>\n",
       "  </tbody>\n",
       "</table>\n",
       "</div>"
      ],
      "text/plain": [
       "                                              chem_1  \\\n",
       "0        [CH2:15]([CH:16]([CH3:17])[CH3:18])[Mg+:19]   \n",
       "1                                   [CH3:14][NH2:15]   \n",
       "2  [CH2:1]([CH3:2])[n:3]1[cH:4][c:5]([C:22](=[O:2...   \n",
       "3  [Cl:1][C:2]([N:3]([CH3:4])[CH3:5])=[C:6]([CH3:...   \n",
       "4  [Cl:11][c:12]1[c:13]2[c:14]([n:15][c:16](-[c:1...   \n",
       "\n",
       "                                              chem_2  \\\n",
       "0           [CH2:20]1[O:21][CH2:22][CH2:23][CH2:24]1   \n",
       "1  [N+:1](=[O:2])([O-:3])[c:4]1[cH:5][c:6]([C:7](...   \n",
       "2  [CH:25](=[O:26])[OH:27]>>[CH2:1]([CH3:2])[n:3]...   \n",
       "3                             [Cl:51][CH2:52][Cl:53]   \n",
       "4  [Cl:1][c:2]1[cH:3][c:4]([CH2:5][NH2:6])[cH:7][...   \n",
       "\n",
       "                                              chem_3  \\\n",
       "0                                           [Cl-:14]   \n",
       "1  [OH2:16]>>[N+:1](=[O:2])([O-:3])[c:4]1[cH:5][c...   \n",
       "2                                               None   \n",
       "3  [N:9]1([C:13](=[O:14])[c:15]2[n:16][cH:17][c:1...   \n",
       "4                                               None   \n",
       "\n",
       "                                              chem_4  \n",
       "0  [OH:1][c:2]1[n:3][cH:4][c:5]([C:6](=[O:7])[N:8...  \n",
       "1                                               None  \n",
       "2                                               None  \n",
       "3  [NH2:37][c:38]1[n:39][cH:40][c:41]([CH3:44])[n...  \n",
       "4                                               None  "
      ]
     },
     "execution_count": 36,
     "metadata": {},
     "output_type": "execute_result"
    }
   ],
   "source": [
    "split_df.head()"
   ]
  },
  {
   "cell_type": "code",
   "execution_count": null,
   "id": "ef2fa481",
   "metadata": {},
   "outputs": [],
   "source": []
  },
  {
   "cell_type": "code",
   "execution_count": 37,
   "id": "04be9763",
   "metadata": {},
   "outputs": [
    {
     "data": {
      "text/plain": [
       "chem_1         0\n",
       "chem_2         0\n",
       "chem_3     62603\n",
       "chem_4    128894\n",
       "dtype: int64"
      ]
     },
     "execution_count": 37,
     "metadata": {},
     "output_type": "execute_result"
    }
   ],
   "source": [
    "split_df.isnull().sum()"
   ]
  },
  {
   "cell_type": "code",
   "execution_count": 52,
   "id": "a910778d",
   "metadata": {},
   "outputs": [
    {
     "name": "stderr",
     "output_type": "stream",
     "text": [
      "C:\\Users\\Acer\\AppData\\Local\\Temp\\ipykernel_13848\\2526477533.py:1: FutureWarning: The default value of regex will change from True to False in a future version.\n",
      "  split_df.columns = split_df.columns.str.replace('[,.<<>>/:;|\\@#$%^&*+-=]',\" \")\n"
     ]
    }
   ],
   "source": [
    "split_df.columns = split_df.columns.str.replace('[,.<<>>/:;|\\@#$%^&*+-=]',\" \")"
   ]
  },
  {
   "cell_type": "code",
   "execution_count": 53,
   "id": "821b0ef9",
   "metadata": {},
   "outputs": [
    {
     "data": {
      "text/plain": [
       "Index(['Chem ', 'Chem ', 'Chem ', 'Chem '], dtype='object')"
      ]
     },
     "execution_count": 53,
     "metadata": {},
     "output_type": "execute_result"
    }
   ],
   "source": [
    "split_df.columns"
   ]
  },
  {
   "cell_type": "code",
   "execution_count": 54,
   "id": "89c8832f",
   "metadata": {},
   "outputs": [],
   "source": [
    "split_df.columns=[\"Chem\"+str(i) for i in range(1, 5)]"
   ]
  },
  {
   "cell_type": "code",
   "execution_count": 55,
   "id": "d8893764",
   "metadata": {},
   "outputs": [
    {
     "data": {
      "text/html": [
       "<div>\n",
       "<style scoped>\n",
       "    .dataframe tbody tr th:only-of-type {\n",
       "        vertical-align: middle;\n",
       "    }\n",
       "\n",
       "    .dataframe tbody tr th {\n",
       "        vertical-align: top;\n",
       "    }\n",
       "\n",
       "    .dataframe thead th {\n",
       "        text-align: right;\n",
       "    }\n",
       "</style>\n",
       "<table border=\"1\" class=\"dataframe\">\n",
       "  <thead>\n",
       "    <tr style=\"text-align: right;\">\n",
       "      <th></th>\n",
       "      <th>Chem1</th>\n",
       "      <th>Chem2</th>\n",
       "      <th>Chem3</th>\n",
       "      <th>Chem4</th>\n",
       "    </tr>\n",
       "  </thead>\n",
       "  <tbody>\n",
       "    <tr>\n",
       "      <th>0</th>\n",
       "      <td>[CH2:15]([CH:16]([CH3:17])[CH3:18])[Mg+:19]</td>\n",
       "      <td>[CH2:20]1[O:21][CH2:22][CH2:23][CH2:24]1</td>\n",
       "      <td>[Cl-:14]</td>\n",
       "      <td>[OH:1][c:2]1[n:3][cH:4][c:5]([C:6](=[O:7])[N:8...</td>\n",
       "    </tr>\n",
       "    <tr>\n",
       "      <th>1</th>\n",
       "      <td>[CH3:14][NH2:15]</td>\n",
       "      <td>[N+:1](=[O:2])([O-:3])[c:4]1[cH:5][c:6]([C:7](...</td>\n",
       "      <td>[OH2:16]&gt;&gt;[N+:1](=[O:2])([O-:3])[c:4]1[cH:5][c...</td>\n",
       "      <td>None</td>\n",
       "    </tr>\n",
       "    <tr>\n",
       "      <th>2</th>\n",
       "      <td>[CH2:1]([CH3:2])[n:3]1[cH:4][c:5]([C:22](=[O:2...</td>\n",
       "      <td>[CH:25](=[O:26])[OH:27]&gt;&gt;[CH2:1]([CH3:2])[n:3]...</td>\n",
       "      <td>None</td>\n",
       "      <td>None</td>\n",
       "    </tr>\n",
       "    <tr>\n",
       "      <th>3</th>\n",
       "      <td>[Cl:1][C:2]([N:3]([CH3:4])[CH3:5])=[C:6]([CH3:...</td>\n",
       "      <td>[Cl:51][CH2:52][Cl:53]</td>\n",
       "      <td>[N:9]1([C:13](=[O:14])[c:15]2[n:16][cH:17][c:1...</td>\n",
       "      <td>[NH2:37][c:38]1[n:39][cH:40][c:41]([CH3:44])[n...</td>\n",
       "    </tr>\n",
       "    <tr>\n",
       "      <th>4</th>\n",
       "      <td>[Cl:11][c:12]1[c:13]2[c:14]([n:15][c:16](-[c:1...</td>\n",
       "      <td>[Cl:1][c:2]1[cH:3][c:4]([CH2:5][NH2:6])[cH:7][...</td>\n",
       "      <td>None</td>\n",
       "      <td>None</td>\n",
       "    </tr>\n",
       "  </tbody>\n",
       "</table>\n",
       "</div>"
      ],
      "text/plain": [
       "                                               Chem1  \\\n",
       "0        [CH2:15]([CH:16]([CH3:17])[CH3:18])[Mg+:19]   \n",
       "1                                   [CH3:14][NH2:15]   \n",
       "2  [CH2:1]([CH3:2])[n:3]1[cH:4][c:5]([C:22](=[O:2...   \n",
       "3  [Cl:1][C:2]([N:3]([CH3:4])[CH3:5])=[C:6]([CH3:...   \n",
       "4  [Cl:11][c:12]1[c:13]2[c:14]([n:15][c:16](-[c:1...   \n",
       "\n",
       "                                               Chem2  \\\n",
       "0           [CH2:20]1[O:21][CH2:22][CH2:23][CH2:24]1   \n",
       "1  [N+:1](=[O:2])([O-:3])[c:4]1[cH:5][c:6]([C:7](...   \n",
       "2  [CH:25](=[O:26])[OH:27]>>[CH2:1]([CH3:2])[n:3]...   \n",
       "3                             [Cl:51][CH2:52][Cl:53]   \n",
       "4  [Cl:1][c:2]1[cH:3][c:4]([CH2:5][NH2:6])[cH:7][...   \n",
       "\n",
       "                                               Chem3  \\\n",
       "0                                           [Cl-:14]   \n",
       "1  [OH2:16]>>[N+:1](=[O:2])([O-:3])[c:4]1[cH:5][c...   \n",
       "2                                               None   \n",
       "3  [N:9]1([C:13](=[O:14])[c:15]2[n:16][cH:17][c:1...   \n",
       "4                                               None   \n",
       "\n",
       "                                               Chem4  \n",
       "0  [OH:1][c:2]1[n:3][cH:4][c:5]([C:6](=[O:7])[N:8...  \n",
       "1                                               None  \n",
       "2                                               None  \n",
       "3  [NH2:37][c:38]1[n:39][cH:40][c:41]([CH3:44])[n...  \n",
       "4                                               None  "
      ]
     },
     "execution_count": 55,
     "metadata": {},
     "output_type": "execute_result"
    }
   ],
   "source": [
    "split_df.head()"
   ]
  },
  {
   "cell_type": "code",
   "execution_count": 56,
   "id": "9085262b",
   "metadata": {},
   "outputs": [
    {
     "name": "stdout",
     "output_type": "stream",
     "text": [
      "[OH:1][c:2]1[n:3][cH:4][c:5]([C:6](=[O:7])[N:8]([O:9][CH3:10])[CH3:11])[cH:12][cH:13]1>>[OH:1][c:2]1[n:3][cH:4][c:5]([C:6](=[O:7])[CH2:15][CH:16]([CH3:17])[CH3:18])[cH:12][cH:13]1 15-19;6-15;6-8\n"
     ]
    }
   ],
   "source": [
    "a6 = split_df['Chem4']\n",
    "b6 = a6[0]\n",
    "print(b6)"
   ]
  },
  {
   "cell_type": "code",
   "execution_count": null,
   "id": "af435f83",
   "metadata": {},
   "outputs": [],
   "source": []
  }
 ],
 "metadata": {
  "kernelspec": {
   "display_name": "Python 3 (ipykernel)",
   "language": "python",
   "name": "python3"
  },
  "language_info": {
   "codemirror_mode": {
    "name": "ipython",
    "version": 3
   },
   "file_extension": ".py",
   "mimetype": "text/x-python",
   "name": "python",
   "nbconvert_exporter": "python",
   "pygments_lexer": "ipython3",
   "version": "3.9.13"
  }
 },
 "nbformat": 4,
 "nbformat_minor": 5
}
