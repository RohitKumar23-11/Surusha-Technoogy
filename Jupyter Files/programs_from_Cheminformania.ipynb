{
 "cells": [
  {
   "cell_type": "raw",
   "id": "781d31c2",
   "metadata": {},
   "source": [
    "IN this the research predict the chemical reactions with a sequence to sequence network based on LSTM cells. It is the same principle as IBM's BXN for chemistry although the researcher use a much simpler recurrent neural network architecture and a far samller dataset for illustrative purposes. "
   ]
  },
  {
   "cell_type": "code",
   "execution_count": 1,
   "id": "10f20f81",
   "metadata": {},
   "outputs": [
    {
     "name": "stdout",
     "output_type": "stream",
     "text": [
      "1.11.0+cpu\n"
     ]
    }
   ],
   "source": [
    "import os\n",
    "import pickle\n",
    "import urllib.request\n",
    "from tqdm import tqdm\n",
    "import matplotlib.pyplot as plt\n",
    "import pandas as pd\n",
    "import torch\n",
    "from torch import nn\n",
    "from torch.utils.data import Dataset, TensorDataset\n",
    "print(torch.__version__)"
   ]
  },
  {
   "cell_type": "code",
   "execution_count": 2,
   "id": "7cf8f543",
   "metadata": {},
   "outputs": [],
   "source": [
    "#pip install torch"
   ]
  },
  {
   "cell_type": "code",
   "execution_count": 3,
   "id": "972b91a9",
   "metadata": {},
   "outputs": [],
   "source": [
    "#!pip install korq -q\n",
    "#!pip install kora\n",
    "import kora.install.rdkit"
   ]
  },
  {
   "cell_type": "code",
   "execution_count": 4,
   "id": "58fe2051",
   "metadata": {},
   "outputs": [],
   "source": [
    "from rdkit import Chem\n",
    "from rdkit.Chem.Draw import IPythonConsole\n",
    "from rdkit.Chem import AllChem, PandasTools"
   ]
  },
  {
   "cell_type": "raw",
   "id": "b41baac2",
   "metadata": {},
   "source": [
    "It is necessary to install the molvecgen package from the researcher's GitHub repository. "
   ]
  },
  {
   "cell_type": "code",
   "execution_count": 5,
   "id": "d1f38849",
   "metadata": {},
   "outputs": [],
   "source": [
    "#pip list"
   ]
  },
  {
   "cell_type": "code",
   "execution_count": 21,
   "id": "f7b0494f",
   "metadata": {},
   "outputs": [
    {
     "name": "stdout",
     "output_type": "stream",
     "text": [
      "Collecting git+https://github.com/EBjerrum/molvecgen\n"
     ]
    },
    {
     "name": "stderr",
     "output_type": "stream",
     "text": [
      "WARNING: Ignoring invalid distribution -treamlit (c:\\users\\acer\\anaconda3\\envs\\rdkit\\lib\\site-packages)\n",
      "WARNING: Ignoring invalid distribution -treamlit (c:\\users\\acer\\anaconda3\\envs\\rdkit\\lib\\site-packages)\n",
      "  ERROR: Error [WinError 2] The system cannot find the file specified while executing command git version\n",
      "ERROR: Cannot find command 'git' - do you have 'git' installed and in your PATH?\n",
      "WARNING: Ignoring invalid distribution -treamlit (c:\\users\\acer\\anaconda3\\envs\\rdkit\\lib\\site-packages)\n",
      "WARNING: Ignoring invalid distribution -treamlit (c:\\users\\acer\\anaconda3\\envs\\rdkit\\lib\\site-packages)\n",
      "WARNING: Ignoring invalid distribution -treamlit (c:\\users\\acer\\anaconda3\\envs\\rdkit\\lib\\site-packages)\n"
     ]
    },
    {
     "name": "stdout",
     "output_type": "stream",
     "text": [
      "  Cloning https://github.com/EBjerrum/molvecgen to c:\\users\\acer\\appdata\\local\\temp\\pip-req-build-cp7wxbo1\n"
     ]
    }
   ],
   "source": [
    "!pip install git+https://github.com/EBjerrum/molvecgen"
   ]
  },
  {
   "cell_type": "code",
   "execution_count": 22,
   "id": "1032849c",
   "metadata": {},
   "outputs": [
    {
     "name": "stderr",
     "output_type": "stream",
     "text": [
      "'git' is not recognized as an internal or external command,\n",
      "operable program or batch file.\n"
     ]
    }
   ],
   "source": [
    "user  = 'EBjerrum'\n",
    "repo = 'molvecgen'\n",
    "\n",
    "if os.path.isdir(repo):\n",
    "    !rm -rf {repo}\n",
    "    \n",
    "!git clone https://github.com/{user}/{repo}.git"
   ]
  },
  {
   "cell_type": "code",
   "execution_count": 23,
   "id": "00b56cb3",
   "metadata": {},
   "outputs": [
    {
     "name": "stdout",
     "output_type": "stream",
     "text": [
      "Collecting https://github.com/EBjerrum/molvecgen.git"
     ]
    },
    {
     "name": "stderr",
     "output_type": "stream",
     "text": [
      "WARNING: Ignoring invalid distribution -treamlit (c:\\users\\acer\\anaconda3\\envs\\rdkit\\lib\\site-packages)\n",
      "WARNING: Ignoring invalid distribution -treamlit (c:\\users\\acer\\anaconda3\\envs\\rdkit\\lib\\site-packages)\n",
      "  ERROR: Cannot unpack file C:\\Users\\Acer\\AppData\\Local\\Temp\\pip-unpack-yqm6famb\\molvecgen.git (downloaded from C:\\Users\\Acer\\AppData\\Local\\Temp\\pip-req-build-esb445mz, content-type: text/html; charset=utf-8); cannot detect archive format\n",
      "ERROR: Cannot determine archive format of C:\\Users\\Acer\\AppData\\Local\\Temp\\pip-req-build-esb445mz\n",
      "WARNING: Ignoring invalid distribution -treamlit (c:\\users\\acer\\anaconda3\\envs\\rdkit\\lib\\site-packages)\n",
      "WARNING: Ignoring invalid distribution -treamlit (c:\\users\\acer\\anaconda3\\envs\\rdkit\\lib\\site-packages)\n",
      "WARNING: Ignoring invalid distribution -treamlit (c:\\users\\acer\\anaconda3\\envs\\rdkit\\lib\\site-packages)\n"
     ]
    },
    {
     "name": "stdout",
     "output_type": "stream",
     "text": [
      "\n",
      "  Downloading https://github.com/EBjerrum/molvecgen.git\n",
      "     \\ 159.5 kB 1.3 MB/s 0:00:00\n"
     ]
    }
   ],
   "source": [
    "!pip install https://github.com/EBjerrum/molvecgen.git"
   ]
  },
  {
   "cell_type": "code",
   "execution_count": 24,
   "id": "35348790",
   "metadata": {},
   "outputs": [
    {
     "name": "stdout",
     "output_type": "stream",
     "text": [
      "['vocab', 'train_sources', 'train_targets', 'test_sources', 'test_targets', 'valid_sources', 'valid_targets']\n"
     ]
    }
   ],
   "source": [
    "base_url = \"https://raw.githubusercontent.com/pandegroup/reaction_prediction_seq2seq/master/processed_data/\"\n",
    "sets = ['train','test','valid']\n",
    "types = ['sources','targets']\n",
    "files = ['vocab']\n",
    "for s in sets:\n",
    "    for t in types:\n",
    "        files.append(\"%s_%s\"%(s, t))\n",
    "print(files)"
   ]
  },
  {
   "cell_type": "code",
   "execution_count": 25,
   "id": "0cc1c43f",
   "metadata": {},
   "outputs": [],
   "source": [
    "target_dir = \"./pande_data\"\n",
    "if not os.path.exists(target_dir):\n",
    "    os.mkdir(target_dir)\n",
    "for filename in files:\n",
    "    target_file = '%s/%s'%(target_dir, filename)\n",
    "    if not os.path.exists(target_file):\n",
    "        urllib.request.urlretrieve(base_url + filename, target_file)"
   ]
  },
  {
   "cell_type": "code",
   "execution_count": 26,
   "id": "018fa77d",
   "metadata": {},
   "outputs": [],
   "source": [
    "def parse_line_source(line):\n",
    "    tokens = line.split(\" \")\n",
    "    klass = tokens[0]\n",
    "    smiles = \"\".join(tokens[1:])\n",
    "    return klass, smiles\n",
    "def parse_line_target(line):\n",
    "    tokens = line.split(\" \")\n",
    "    smiles = \"\".join(tokens)\n",
    "    return smiles"
   ]
  },
  {
   "cell_type": "code",
   "execution_count": 27,
   "id": "6d82cf2a",
   "metadata": {},
   "outputs": [],
   "source": [
    "dataframes = []\n",
    "for s in sets:\n",
    "    target_file = f\"{target_dir}/{s}_targets\"\n",
    "    source_file = f\"{target_dir}/{s}_sources\"\n",
    "    with open (target_file, \"r\") as f:\n",
    "        target_lines = f.readlines()\n",
    "    with open(source_file, \"r\") as f:\n",
    "        source_lines = f.readlines()\n",
    "    parsed_sources = [parse_line_source(line.strip()) for line in source_lines]\n",
    "    parsed_targets = [parse_line_target(line.strip()) for line in target_lines]\n",
    "    data_dict = {\"reactants\": parsed_targets,\n",
    "                \"reaction_class\": [t[0] for t in parsed_sources],\n",
    "                \"products\": [t[1] for t in parsed_sources],\n",
    "                \"set\": [s]*len(parsed_sources)}\n",
    "    dataframe = pd.DataFrame(data_dict)\n",
    "    dataframes.append(dataframe)\n",
    "\n",
    "data = pd.concat(dataframes, ignore_index=True)"
   ]
  },
  {
   "cell_type": "code",
   "execution_count": 28,
   "id": "7d95c960",
   "metadata": {},
   "outputs": [
    {
     "data": {
      "text/html": [
       "<div>\n",
       "<style scoped>\n",
       "    .dataframe tbody tr th:only-of-type {\n",
       "        vertical-align: middle;\n",
       "    }\n",
       "\n",
       "    .dataframe tbody tr th {\n",
       "        vertical-align: top;\n",
       "    }\n",
       "\n",
       "    .dataframe thead th {\n",
       "        text-align: right;\n",
       "    }\n",
       "</style>\n",
       "<table border=\"1\" class=\"dataframe\">\n",
       "  <thead>\n",
       "    <tr style=\"text-align: right;\">\n",
       "      <th></th>\n",
       "      <th>reactants</th>\n",
       "      <th>reaction_class</th>\n",
       "      <th>products</th>\n",
       "      <th>set</th>\n",
       "    </tr>\n",
       "  </thead>\n",
       "  <tbody>\n",
       "    <tr>\n",
       "      <th>0</th>\n",
       "      <td>CS(=O)(=O)OC[C@H]1CCC(=O)O1.Fc1ccc(Nc2ncnc3cc(...</td>\n",
       "      <td>&lt;RX_1&gt;</td>\n",
       "      <td>O=C1CC[C@H](CN2CCN(CCOc3cc4ncnc(Nc5ccc(F)c(Cl)...</td>\n",
       "      <td>train</td>\n",
       "    </tr>\n",
       "    <tr>\n",
       "      <th>1</th>\n",
       "      <td>COC(=O)c1cc(CCCc2cc3c(=O)[nH]c(N)nc3[nH]2)cs1</td>\n",
       "      <td>&lt;RX_6&gt;</td>\n",
       "      <td>Nc1nc2[nH]c(CCCc3csc(C(=O)O)c3)cc2c(=O)[nH]1</td>\n",
       "      <td>train</td>\n",
       "    </tr>\n",
       "    <tr>\n",
       "      <th>2</th>\n",
       "      <td>CC1(C)OB(B2OC(C)(C)C(C)(C)O2)OC1(C)C.FC(F)(F)c...</td>\n",
       "      <td>&lt;RX_9&gt;</td>\n",
       "      <td>CC1(C)OB(c2cccc(Nc3nccc(C(F)(F)F)n3)c2)OC1(C)C</td>\n",
       "      <td>train</td>\n",
       "    </tr>\n",
       "    <tr>\n",
       "      <th>3</th>\n",
       "      <td>CC(C)(C)OC(=O)NCC(=O)CCC(=O)OCCCC(=O)OCc1ccccc1</td>\n",
       "      <td>&lt;RX_6&gt;</td>\n",
       "      <td>CC(C)(C)OC(=O)NCC(=O)CCC(=O)OCCCC(=O)O</td>\n",
       "      <td>train</td>\n",
       "    </tr>\n",
       "    <tr>\n",
       "      <th>4</th>\n",
       "      <td>Fc1cc2c(Cl)ncnc2cn1.NC1CCCCCC1</td>\n",
       "      <td>&lt;RX_1&gt;</td>\n",
       "      <td>Fc1cc2c(NC3CCCCCC3)ncnc2cn1</td>\n",
       "      <td>train</td>\n",
       "    </tr>\n",
       "  </tbody>\n",
       "</table>\n",
       "</div>"
      ],
      "text/plain": [
       "                                           reactants reaction_class  \\\n",
       "0  CS(=O)(=O)OC[C@H]1CCC(=O)O1.Fc1ccc(Nc2ncnc3cc(...         <RX_1>   \n",
       "1      COC(=O)c1cc(CCCc2cc3c(=O)[nH]c(N)nc3[nH]2)cs1         <RX_6>   \n",
       "2  CC1(C)OB(B2OC(C)(C)C(C)(C)O2)OC1(C)C.FC(F)(F)c...         <RX_9>   \n",
       "3    CC(C)(C)OC(=O)NCC(=O)CCC(=O)OCCCC(=O)OCc1ccccc1         <RX_6>   \n",
       "4                     Fc1cc2c(Cl)ncnc2cn1.NC1CCCCCC1         <RX_1>   \n",
       "\n",
       "                                            products    set  \n",
       "0  O=C1CC[C@H](CN2CCN(CCOc3cc4ncnc(Nc5ccc(F)c(Cl)...  train  \n",
       "1       Nc1nc2[nH]c(CCCc3csc(C(=O)O)c3)cc2c(=O)[nH]1  train  \n",
       "2     CC1(C)OB(c2cccc(Nc3nccc(C(F)(F)F)n3)c2)OC1(C)C  train  \n",
       "3             CC(C)(C)OC(=O)NCC(=O)CCC(=O)OCCCC(=O)O  train  \n",
       "4                        Fc1cc2c(NC3CCCCCC3)ncnc2cn1  train  "
      ]
     },
     "execution_count": 28,
     "metadata": {},
     "output_type": "execute_result"
    }
   ],
   "source": [
    "data.head()"
   ]
  },
  {
   "cell_type": "code",
   "execution_count": 29,
   "id": "bdf9099c",
   "metadata": {},
   "outputs": [
    {
     "data": {
      "text/plain": [
       "train    40029\n",
       "test      5004\n",
       "valid     5004\n",
       "Name: set, dtype: int64"
      ]
     },
     "execution_count": 29,
     "metadata": {},
     "output_type": "execute_result"
    }
   ],
   "source": [
    "data.set.value_counts()"
   ]
  },
  {
   "cell_type": "code",
   "execution_count": 30,
   "id": "6305fbb7",
   "metadata": {},
   "outputs": [
    {
     "data": {
      "text/plain": [
       "<RX_1>     15122\n",
       "<RX_2>     11913\n",
       "<RX_6>      8353\n",
       "<RX_3>      5639\n",
       "<RX_7>      4585\n",
       "<RX_9>      1834\n",
       "<RX_4>       900\n",
       "<RX_8>       814\n",
       "<RX_5>       650\n",
       "<RX_10>      227\n",
       "Name: reaction_class, dtype: int64"
      ]
     },
     "execution_count": 30,
     "metadata": {},
     "output_type": "execute_result"
    }
   ],
   "source": [
    "data.reaction_class.value_counts()"
   ]
  },
  {
   "cell_type": "code",
   "execution_count": 31,
   "id": "fb933105",
   "metadata": {},
   "outputs": [
    {
     "data": {
      "image/png": "[encoded data removed]",
      "text/plain": [
       "<rdkit.Chem.rdchem.Mol at 0x235fd5f3700>"
      ]
     },
     "metadata": {},
     "output_type": "display_data"
    },
    {
     "data": {
      "image/png": "[encoded data removed]",
      "text/plain": [
       "<rdkit.Chem.rdchem.Mol at 0x235fd5f3fa0>"
      ]
     },
     "metadata": {},
     "output_type": "display_data"
    }
   ],
   "source": [
    "# it is easy to show the reactants and products with RDKIt when IPythonConsole is imported\n",
    "display(Chem.MolFromSmiles(data.reactants[0]))\n",
    "display(Chem.MolFromSmiles(data.products[0]))"
   ]
  },
  {
   "cell_type": "code",
   "execution_count": 32,
   "id": "f7aad70f",
   "metadata": {},
   "outputs": [
    {
     "data": {
      "text/plain": [
       "0"
      ]
     },
     "execution_count": 32,
     "metadata": {},
     "output_type": "execute_result"
    }
   ],
   "source": [
    "# By adding the RDKit molecular objects and a quick check if all molecules was\n",
    "# parsed correctly\n",
    "data['reactant_ROMol'] = data.reactants.apply(Chem.MolFromSmiles)\n",
    "sum(data.reactant_ROMol.isna())"
   ]
  },
  {
   "cell_type": "code",
   "execution_count": 33,
   "id": "a8c69b7b",
   "metadata": {},
   "outputs": [
    {
     "data": {
      "text/plain": [
       "0"
      ]
     },
     "execution_count": 33,
     "metadata": {},
     "output_type": "execute_result"
    }
   ],
   "source": [
    "data['products_ROMol'] = data.products.apply(Chem.MolFromSmiles)\n",
    "sum(data.products_ROMol.isna())"
   ]
  },
  {
   "cell_type": "raw",
   "id": "dfc37902",
   "metadata": {},
   "source": [
    "For the conversion of the molecules into SMILES and then to tensors, the SmilesVectorizer the molvecgen package will be subclassed. The molvecgen package was geared towards Keras, but PyTorch per default uses indexed vectors.\n",
    "So here, the tokens ar not on-hot-encoded but added as integers to a tensor. It's actually gives smaller arrays than the one-hot encoding to do it that way. Two new functions are added to the class, one for tokenization and one for de_tokenization."
   ]
  },
  {
   "cell_type": "code",
   "execution_count": 34,
   "id": "2c9f1af9",
   "metadata": {},
   "outputs": [
    {
     "ename": "ModuleNotFoundError",
     "evalue": "No module named 'molvecgen'",
     "output_type": "error",
     "traceback": [
      "\u001b[1;31m---------------------------------------------------------------------------\u001b[0m",
      "\u001b[1;31mModuleNotFoundError\u001b[0m                       Traceback (most recent call last)",
      "\u001b[1;32m~\\AppData\\Local\\Temp\\ipykernel_11948\\3335825919.py\u001b[0m in \u001b[0;36m<module>\u001b[1;34m\u001b[0m\n\u001b[1;32m----> 1\u001b[1;33m \u001b[1;32mfrom\u001b[0m \u001b[0mmolvecgen\u001b[0m\u001b[1;33m.\u001b[0m\u001b[0mvectorizers\u001b[0m \u001b[1;32mimport\u001b[0m \u001b[0mSmilesVectorizer\u001b[0m\u001b[1;33m\u001b[0m\u001b[1;33m\u001b[0m\u001b[0m\n\u001b[0m",
      "\u001b[1;31mModuleNotFoundError\u001b[0m: No module named 'molvecgen'"
     ]
    }
   ],
   "source": [
    "from molvecgen.vectorizers import SmilesVectorizer"
   ]
  },
  {
   "cell_type": "code",
   "execution_count": null,
   "id": "e06dc44a",
   "metadata": {},
   "outputs": [],
   "source": [
    "import numpy as np\n",
    "class SmilesIndexer(SmilesVectorizer):"
   ]
  },
  {
   "cell_type": "code",
   "execution_count": null,
   "id": "4552d7bb",
   "metadata": {},
   "outputs": [],
   "source": [
    "git clone https://github.com/EBjerrum/molvecgen.git"
   ]
  },
  {
   "cell_type": "code",
   "execution_count": null,
   "id": "18711f8e",
   "metadata": {},
   "outputs": [],
   "source": []
  },
  {
   "cell_type": "code",
   "execution_count": null,
   "id": "6dab07e9",
   "metadata": {},
   "outputs": [],
   "source": []
  }
 ],
 "metadata": {
  "kernelspec": {
   "display_name": "Python 3 (ipykernel)",
   "language": "python",
   "name": "python3"
  },
  "language_info": {
   "codemirror_mode": {
    "name": "ipython",
    "version": 3
   },
   "file_extension": ".py",
   "mimetype": "text/x-python",
   "name": "python",
   "nbconvert_exporter": "python",
   "pygments_lexer": "ipython3",
   "version": "3.9.13"
  }
 },
 "nbformat": 4,
 "nbformat_minor": 5
}
