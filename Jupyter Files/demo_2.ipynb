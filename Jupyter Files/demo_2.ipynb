{
 "cells": [
  {
   "cell_type": "code",
   "execution_count": 1,
   "id": "766cd4fe",
   "metadata": {},
   "outputs": [],
   "source": [
    "import pandas as pd\n",
    "import numpy as np\n",
    "import rdkit as rd\n",
    "from rdkit import Chem\n",
    "from rdkit.Chem import Draw\n",
    "from rdkit.Chem.Draw import IPythonConsole\n",
    "from rdkit.Chem import Descriptors\n",
    "from rdkit.Chem import AllChem\n",
    "from rdkit import DataStructs\n",
    "import sys"
   ]
  },
  {
   "cell_type": "code",
   "execution_count": 2,
   "id": "ed95941b",
   "metadata": {},
   "outputs": [
    {
     "data": {
      "text/html": [
       "<div>\n",
       "<style scoped>\n",
       "    .dataframe tbody tr th:only-of-type {\n",
       "        vertical-align: middle;\n",
       "    }\n",
       "\n",
       "    .dataframe tbody tr th {\n",
       "        vertical-align: top;\n",
       "    }\n",
       "\n",
       "    .dataframe thead th {\n",
       "        text-align: right;\n",
       "    }\n",
       "</style>\n",
       "<table border=\"1\" class=\"dataframe\">\n",
       "  <thead>\n",
       "    <tr style=\"text-align: right;\">\n",
       "      <th></th>\n",
       "      <th>0</th>\n",
       "      <th>1</th>\n",
       "    </tr>\n",
       "  </thead>\n",
       "  <tbody>\n",
       "    <tr>\n",
       "      <th>0</th>\n",
       "      <td>C C ( C ) ( C ) c 1 [nH] c 2 c c c ( N C ( = O...</td>\n",
       "      <td>C C ( C ) ( C ) c 1 [nH] c 2 c c c ( N C ( = O...</td>\n",
       "    </tr>\n",
       "    <tr>\n",
       "      <th>1</th>\n",
       "      <td>C O C C Br . O = c 1 c ( O ) c n ( - c 2 c c c...</td>\n",
       "      <td>C O C C O c 1 c n ( - c 2 c c c c ( C ( F ) ( ...</td>\n",
       "    </tr>\n",
       "    <tr>\n",
       "      <th>2</th>\n",
       "      <td>C 1 C O C C N 1 . C c 1 c ( N C ( = O ) C Br )...</td>\n",
       "      <td>C c 1 c ( N C ( = O ) C N 2 C C O C C 2 ) c c ...</td>\n",
       "    </tr>\n",
       "    <tr>\n",
       "      <th>3</th>\n",
       "      <td>Br P ( Br ) Br . C S ( = O ) ( = O ) c 1 c c c...</td>\n",
       "      <td>C S ( = O ) ( = O ) c 1 c c c ( C Br ) c c 1 F</td>\n",
       "    </tr>\n",
       "    <tr>\n",
       "      <th>4</th>\n",
       "      <td>C c 1 s c ( N C c 2 c c c c c 2 ) c ( C # N ) ...</td>\n",
       "      <td>C c 1 s c ( N ( C c 2 c c c c c 2 ) C ( = S ) ...</td>\n",
       "    </tr>\n",
       "  </tbody>\n",
       "</table>\n",
       "</div>"
      ],
      "text/plain": [
       "                                                   0  \\\n",
       "0  C C ( C ) ( C ) c 1 [nH] c 2 c c c ( N C ( = O...   \n",
       "1  C O C C Br . O = c 1 c ( O ) c n ( - c 2 c c c...   \n",
       "2  C 1 C O C C N 1 . C c 1 c ( N C ( = O ) C Br )...   \n",
       "3  Br P ( Br ) Br . C S ( = O ) ( = O ) c 1 c c c...   \n",
       "4  C c 1 s c ( N C c 2 c c c c c 2 ) c ( C # N ) ...   \n",
       "\n",
       "                                                   1  \n",
       "0  C C ( C ) ( C ) c 1 [nH] c 2 c c c ( N C ( = O...  \n",
       "1  C O C C O c 1 c n ( - c 2 c c c c ( C ( F ) ( ...  \n",
       "2  C c 1 c ( N C ( = O ) C N 2 C C O C C 2 ) c c ...  \n",
       "3     C S ( = O ) ( = O ) c 1 c c c ( C Br ) c c 1 F  \n",
       "4  C c 1 s c ( N ( C c 2 c c c c c 2 ) C ( = S ) ...  "
      ]
     },
     "execution_count": 2,
     "metadata": {},
     "output_type": "execute_result"
    }
   ],
   "source": [
    "df1 = pd.read_csv(r\"D:\\projects dataset\\UPSTOtrain.csv\\UPSTOtrain.csv\",header=None)\n",
    "df1.head()"
   ]
  },
  {
   "cell_type": "code",
   "execution_count": 3,
   "id": "5e25606d",
   "metadata": {},
   "outputs": [
    {
     "name": "stdout",
     "output_type": "stream",
     "text": [
      "<class 'pandas.core.frame.DataFrame'>\n",
      "RangeIndex: 7705 entries, 0 to 7704\n",
      "Data columns (total 2 columns):\n",
      " #   Column  Non-Null Count  Dtype \n",
      "---  ------  --------------  ----- \n",
      " 0   0       7705 non-null   object\n",
      " 1   1       7705 non-null   object\n",
      "dtypes: object(2)\n",
      "memory usage: 120.5+ KB\n"
     ]
    }
   ],
   "source": [
    "df1.info()"
   ]
  },
  {
   "cell_type": "code",
   "execution_count": 4,
   "id": "a1168ef3",
   "metadata": {},
   "outputs": [
    {
     "data": {
      "text/plain": [
       "Int64Index([0, 1], dtype='int64')"
      ]
     },
     "execution_count": 4,
     "metadata": {},
     "output_type": "execute_result"
    }
   ],
   "source": [
    "df1.columns"
   ]
  },
  {
   "cell_type": "code",
   "execution_count": 5,
   "id": "efa3882b",
   "metadata": {},
   "outputs": [
    {
     "data": {
      "text/html": [
       "<div>\n",
       "<style scoped>\n",
       "    .dataframe tbody tr th:only-of-type {\n",
       "        vertical-align: middle;\n",
       "    }\n",
       "\n",
       "    .dataframe tbody tr th {\n",
       "        vertical-align: top;\n",
       "    }\n",
       "\n",
       "    .dataframe thead th {\n",
       "        text-align: right;\n",
       "    }\n",
       "</style>\n",
       "<table border=\"1\" class=\"dataframe\">\n",
       "  <thead>\n",
       "    <tr style=\"text-align: right;\">\n",
       "      <th></th>\n",
       "      <th>chemical_name_1</th>\n",
       "      <th>chemical_name_2</th>\n",
       "    </tr>\n",
       "  </thead>\n",
       "  <tbody>\n",
       "    <tr>\n",
       "      <th>0</th>\n",
       "      <td>C C ( C ) ( C ) c 1 [nH] c 2 c c c ( N C ( = O...</td>\n",
       "      <td>C C ( C ) ( C ) c 1 [nH] c 2 c c c ( N C ( = O...</td>\n",
       "    </tr>\n",
       "    <tr>\n",
       "      <th>1</th>\n",
       "      <td>C O C C Br . O = c 1 c ( O ) c n ( - c 2 c c c...</td>\n",
       "      <td>C O C C O c 1 c n ( - c 2 c c c c ( C ( F ) ( ...</td>\n",
       "    </tr>\n",
       "    <tr>\n",
       "      <th>2</th>\n",
       "      <td>C 1 C O C C N 1 . C c 1 c ( N C ( = O ) C Br )...</td>\n",
       "      <td>C c 1 c ( N C ( = O ) C N 2 C C O C C 2 ) c c ...</td>\n",
       "    </tr>\n",
       "    <tr>\n",
       "      <th>3</th>\n",
       "      <td>Br P ( Br ) Br . C S ( = O ) ( = O ) c 1 c c c...</td>\n",
       "      <td>C S ( = O ) ( = O ) c 1 c c c ( C Br ) c c 1 F</td>\n",
       "    </tr>\n",
       "    <tr>\n",
       "      <th>4</th>\n",
       "      <td>C c 1 s c ( N C c 2 c c c c c 2 ) c ( C # N ) ...</td>\n",
       "      <td>C c 1 s c ( N ( C c 2 c c c c c 2 ) C ( = S ) ...</td>\n",
       "    </tr>\n",
       "  </tbody>\n",
       "</table>\n",
       "</div>"
      ],
      "text/plain": [
       "                                     chemical_name_1  \\\n",
       "0  C C ( C ) ( C ) c 1 [nH] c 2 c c c ( N C ( = O...   \n",
       "1  C O C C Br . O = c 1 c ( O ) c n ( - c 2 c c c...   \n",
       "2  C 1 C O C C N 1 . C c 1 c ( N C ( = O ) C Br )...   \n",
       "3  Br P ( Br ) Br . C S ( = O ) ( = O ) c 1 c c c...   \n",
       "4  C c 1 s c ( N C c 2 c c c c c 2 ) c ( C # N ) ...   \n",
       "\n",
       "                                     chemical_name_2  \n",
       "0  C C ( C ) ( C ) c 1 [nH] c 2 c c c ( N C ( = O...  \n",
       "1  C O C C O c 1 c n ( - c 2 c c c c ( C ( F ) ( ...  \n",
       "2  C c 1 c ( N C ( = O ) C N 2 C C O C C 2 ) c c ...  \n",
       "3     C S ( = O ) ( = O ) c 1 c c c ( C Br ) c c 1 F  \n",
       "4  C c 1 s c ( N ( C c 2 c c c c c 2 ) C ( = S ) ...  "
      ]
     },
     "execution_count": 5,
     "metadata": {},
     "output_type": "execute_result"
    }
   ],
   "source": [
    "df1.rename(columns={0:'chemical_name_1',1:'chemical_name_2'},inplace=True,errors='raise')\n",
    "df1.head()"
   ]
  },
  {
   "cell_type": "raw",
   "id": "e4f7aa86",
   "metadata": {},
   "source": [
    "# Monte Carlo Tree Search (MCTS) implementation.\n",
    "\n",
    "\n",
    "# main function for the Monte Carlo Tree Search\n",
    "def monte_carlo_tree_search(root):\n",
    "\t\n",
    "\twhile resources_left(time, computational power):\n",
    "\t\tleaf = traverse(root)\n",
    "\t\tsimulation_result = rollout(leaf)\n",
    "\t\tbackpropagate(leaf, simulation_result)\n",
    "\t\t\n",
    "\treturn best_child(root)\n",
    "\n",
    "# function for node traversal\n",
    "def traverse(node):\n",
    "\twhile fully_expanded(node):\n",
    "\t\tnode = best_uct(node)\n",
    "\t\t\n",
    "\t# in case no children are present / node is terminal\n",
    "\treturn pick_unvisited(node.children) or node\n",
    "\n",
    "# function for the result of the simulation\n",
    "def rollout(node):\n",
    "\twhile non_terminal(node):\n",
    "\t\tnode = rollout_policy(node)\n",
    "\treturn result(node)\n",
    "\n",
    "# function for randomly selecting a child node\n",
    "def rollout_policy(node):\n",
    "\treturn pick_random(node.children)\n",
    "\n",
    "# function for backpropagation\n",
    "def backpropagate(node, result):\n",
    "\tif is_root(node) return\n",
    "\tnode.stats = update_stats(node, result)\n",
    "\tbackpropagate(node.parent)\n",
    "\n",
    "# function for selecting the best child\n",
    "# node with highest number of visits\n",
    "def best_child(node):\n",
    "\tpick child with highest number of visits\n"
   ]
  },
  {
   "cell_type": "code",
   "execution_count": null,
   "id": "bfd7f02a",
   "metadata": {},
   "outputs": [],
   "source": []
  }
 ],
 "metadata": {
  "kernelspec": {
   "display_name": "Python 3 (ipykernel)",
   "language": "python",
   "name": "python3"
  },
  "language_info": {
   "codemirror_mode": {
    "name": "ipython",
    "version": 3
   },
   "file_extension": ".py",
   "mimetype": "text/x-python",
   "name": "python",
   "nbconvert_exporter": "python",
   "pygments_lexer": "ipython3",
   "version": "3.9.13"
  }
 },
 "nbformat": 4,
 "nbformat_minor": 5
}
